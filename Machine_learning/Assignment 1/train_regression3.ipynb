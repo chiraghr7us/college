{
 "cells": [
  {
   "cell_type": "code",
   "execution_count": 1,
   "id": "initial_id",
   "metadata": {
    "collapsed": true,
    "ExecuteTime": {
     "end_time": "2024-02-04T19:59:04.236973600Z",
     "start_time": "2024-02-04T19:59:03.098374200Z"
    }
   },
   "outputs": [],
   "source": [
    "import pickle\n",
    "import numpy as np\n",
    "import matplotlib.pyplot as plt\n",
    "from sklearn.datasets import load_iris\n",
    "from sklearn.model_selection import StratifiedShuffleSplit  # to get even classes in the test split\n",
    "from sklearn.model_selection import train_test_split\n",
    "from LinearRegression import LinearRegression\n"
   ]
  },
  {
   "cell_type": "code",
   "outputs": [],
   "source": [
    "iris = load_iris()\n",
    "# Splitting data into test set with even classes\n",
    "lr_data = iris.data\n",
    "\n"
   ],
   "metadata": {
    "collapsed": false,
    "ExecuteTime": {
     "end_time": "2024-02-04T19:59:06.073551100Z",
     "start_time": "2024-02-04T19:59:06.060479900Z"
    }
   },
   "id": "d1b8b5fac74ae721",
   "execution_count": 2
  },
  {
   "cell_type": "code",
   "outputs": [],
   "source": [
    "# model_1_X = np.vstack((lr_data[:,0], lr_data[:,2])).transpose()\n",
    "model_1_X = lr_data[:, 3]  #  petal width\n",
    "model_1_y = lr_data[:, 0]  # target= sepal length\n",
    "\n"
   ],
   "metadata": {
    "collapsed": false,
    "ExecuteTime": {
     "end_time": "2024-02-04T20:02:16.736011Z",
     "start_time": "2024-02-04T20:02:16.678702300Z"
    }
   },
   "id": "25e6884ce80b94f4",
   "execution_count": 8
  },
  {
   "cell_type": "code",
   "outputs": [],
   "source": [
    "model_1_X_train, model_1_X_test, model_1_y_train, model_1_y_test = train_test_split(model_1_X, model_1_y, test_size=0.1,\n",
    "                                                                                    random_state=42)"
   ],
   "metadata": {
    "collapsed": false,
    "ExecuteTime": {
     "end_time": "2024-02-04T20:02:17.602945500Z",
     "start_time": "2024-02-04T20:02:17.592961100Z"
    }
   },
   "id": "3c8262aee8caed0d",
   "execution_count": 9
  },
  {
   "cell_type": "code",
   "outputs": [
    {
     "name": "stdout",
     "output_type": "stream",
     "text": [
      "[0.65685855]\n"
     ]
    }
   ],
   "source": [
    "reg = LinearRegression()\n",
    "reg.fit(model_1_X_train, model_1_y_train, regularization=2)\n",
    "b = reg.bias\n",
    "m = reg.weights[0]\n"
   ],
   "metadata": {
    "collapsed": false,
    "ExecuteTime": {
     "end_time": "2024-02-04T20:02:18.195534800Z",
     "start_time": "2024-02-04T20:02:18.154708800Z"
    }
   },
   "id": "1fec81b2c7e4123c",
   "execution_count": 10
  },
  {
   "cell_type": "code",
   "outputs": [
    {
     "data": {
      "text/plain": "array([1.30352074, 0.71234804, 2.02606515, 1.50057831, 1.43489245,\n       0.7780339 , 1.3692066 , 2.02606515, 1.50057831, 1.30352074,\n       1.82900758, 0.58097633, 0.64666219, 0.58097633, 0.71234804])"
     },
     "execution_count": 11,
     "metadata": {},
     "output_type": "execute_result"
    }
   ],
   "source": [
    "model_1_y_pred = reg.predict(model_1_X_test)\n",
    "model_1_y_pred"
   ],
   "metadata": {
    "collapsed": false,
    "ExecuteTime": {
     "end_time": "2024-02-04T20:02:19.931531200Z",
     "start_time": "2024-02-04T20:02:19.921588100Z"
    }
   },
   "id": "e23f5e85712bfc20",
   "execution_count": 11
  },
  {
   "cell_type": "code",
   "outputs": [],
   "source": [
    "with open('reg_model_3.pkl', 'wb') as f:\n",
    "    pickle.dump(reg,f)"
   ],
   "metadata": {
    "collapsed": false,
    "ExecuteTime": {
     "end_time": "2024-02-04T20:14:10.222872900Z",
     "start_time": "2024-02-04T20:14:10.206603100Z"
    }
   },
   "id": "c472ccc7921700e0",
   "execution_count": 12
  },
  {
   "cell_type": "code",
   "outputs": [
    {
     "data": {
      "text/plain": "[<matplotlib.lines.Line2D at 0x2891fa8a600>]"
     },
     "execution_count": 7,
     "metadata": {},
     "output_type": "execute_result"
    },
    {
     "data": {
      "text/plain": "<Figure size 640x480 with 1 Axes>",
      "image/png": "[encoded data removed]"
     },
     "metadata": {},
     "output_type": "display_data"
    }
   ],
   "source": [
    "# Visualize the new solution\n",
    "fig = plt.figure()\n",
    "ax = fig.add_subplot(111)\n",
    "ax.scatter(model_1_X_test, model_1_y_test)\n",
    "# ax.scatter(model_1_X_test, y)\n",
    "ax.plot(model_1_X_test, model_1_y_pred, c='r')"
   ],
   "metadata": {
    "collapsed": false,
    "ExecuteTime": {
     "end_time": "2024-02-04T20:00:04.047268100Z",
     "start_time": "2024-02-04T20:00:03.923081200Z"
    }
   },
   "id": "f9a7e941423288a",
   "execution_count": 7
  },
  {
   "cell_type": "code",
   "outputs": [],
   "source": [],
   "metadata": {
    "collapsed": false
   },
   "id": "300f1aa3dddb4762"
  }
 ],
 "metadata": {
  "kernelspec": {
   "display_name": "Python 3",
   "language": "python",
   "name": "python3"
  },
  "language_info": {
   "codemirror_mode": {
    "name": "ipython",
    "version": 2
   },
   "file_extension": ".py",
   "mimetype": "text/x-python",
   "name": "python",
   "nbconvert_exporter": "python",
   "pygments_lexer": "ipython2",
   "version": "2.7.6"
  }
 },
 "nbformat": 4,
 "nbformat_minor": 5
}
