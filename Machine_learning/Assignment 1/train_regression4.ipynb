{
 "cells": [
  {
   "cell_type": "code",
   "execution_count": 1,
   "id": "initial_id",
   "metadata": {
    "collapsed": true,
    "ExecuteTime": {
     "end_time": "2024-02-04T20:00:54.327285700Z",
     "start_time": "2024-02-04T20:00:53.011379200Z"
    }
   },
   "outputs": [],
   "source": [
    "import pickle\n",
    "import numpy as np\n",
    "import matplotlib.pyplot as plt\n",
    "from sklearn.datasets import load_iris\n",
    "from sklearn.model_selection import StratifiedShuffleSplit  # to get even classes in the test split\n",
    "from sklearn.model_selection import train_test_split\n",
    "from LinearRegression import LinearRegression\n"
   ]
  },
  {
   "cell_type": "code",
   "outputs": [],
   "source": [
    "iris = load_iris()\n",
    "# Splitting data into test set with even classes\n",
    "lr_data = iris.data\n",
    "\n"
   ],
   "metadata": {
    "collapsed": false,
    "ExecuteTime": {
     "end_time": "2024-02-04T20:00:56.313072500Z",
     "start_time": "2024-02-04T20:00:56.301314300Z"
    }
   },
   "id": "9af2291ce0282f41",
   "execution_count": 2
  },
  {
   "cell_type": "code",
   "outputs": [],
   "source": [
    "# model_1_X = np.vstack((lr_data[:,0], lr_data[:,2])).transpose()\n",
    "model_1_X = lr_data[:, 2]  # petal length \n",
    "model_1_y = lr_data[:, 3]  # target= petal width\n",
    "\n"
   ],
   "metadata": {
    "collapsed": false,
    "ExecuteTime": {
     "end_time": "2024-02-04T20:01:12.751531900Z",
     "start_time": "2024-02-04T20:01:12.738936800Z"
    }
   },
   "id": "323ad0c4cf1f4eb",
   "execution_count": 3
  },
  {
   "cell_type": "code",
   "outputs": [],
   "source": [
    "model_1_X_train, model_1_X_test, model_1_y_train, model_1_y_test = train_test_split(model_1_X, model_1_y, test_size=0.1,\n",
    "                                                                                    random_state=42)"
   ],
   "metadata": {
    "collapsed": false,
    "ExecuteTime": {
     "end_time": "2024-02-04T20:01:19.013234300Z",
     "start_time": "2024-02-04T20:01:19.000326400Z"
    }
   },
   "id": "a3e45055815c6f20",
   "execution_count": 4
  },
  {
   "cell_type": "code",
   "outputs": [
    {
     "name": "stdout",
     "output_type": "stream",
     "text": [
      "[0.27171014]\n"
     ]
    }
   ],
   "source": [
    "reg = LinearRegression()\n",
    "reg.fit(model_1_X_train, model_1_y_train, regularization=2)\n",
    "b = reg.bias\n",
    "m = reg.weights[0]\n"
   ],
   "metadata": {
    "collapsed": false,
    "ExecuteTime": {
     "end_time": "2024-02-04T20:01:24.691967200Z",
     "start_time": "2024-02-04T20:01:24.680674500Z"
    }
   },
   "id": "e04be7c19a4ec9c3",
   "execution_count": 5
  },
  {
   "cell_type": "code",
   "outputs": [
    {
     "data": {
      "text/plain": "array([1.3290393 , 0.51390889, 1.92680161, 1.27469728, 1.35621032,\n       0.45956686, 1.03015815, 1.43772336, 1.27469728, 1.11167119,\n       1.43772336, 0.43239585, 0.40522484, 0.45956686, 0.45956686])"
     },
     "execution_count": 6,
     "metadata": {},
     "output_type": "execute_result"
    }
   ],
   "source": [
    "model_1_y_pred = reg.predict(model_1_X_test)\n",
    "model_1_y_pred\n"
   ],
   "metadata": {
    "collapsed": false,
    "ExecuteTime": {
     "end_time": "2024-02-04T20:01:32.628572500Z",
     "start_time": "2024-02-04T20:01:32.618661100Z"
    }
   },
   "id": "9ff4f0fd1bcbd596",
   "execution_count": 6
  },
  {
   "cell_type": "code",
   "outputs": [],
   "source": [
    "with open('reg_model_4.pkl', 'wb') as f:\n",
    "    pickle.dump(reg,f)"
   ],
   "metadata": {
    "collapsed": false,
    "ExecuteTime": {
     "end_time": "2024-02-04T20:14:26.872786600Z",
     "start_time": "2024-02-04T20:14:26.863104200Z"
    }
   },
   "id": "dcee2997c05ffdc",
   "execution_count": 9
  },
  {
   "cell_type": "code",
   "outputs": [
    {
     "data": {
      "text/plain": "[<matplotlib.lines.Line2D at 0x24b2531aae0>]"
     },
     "execution_count": 7,
     "metadata": {},
     "output_type": "execute_result"
    },
    {
     "data": {
      "text/plain": "<Figure size 640x480 with 1 Axes>",
      "image/png": "[encoded data removed]"
     },
     "metadata": {},
     "output_type": "display_data"
    }
   ],
   "source": [
    "# Visualize the new solution\n",
    "fig = plt.figure()\n",
    "ax = fig.add_subplot(111)\n",
    "ax.scatter(model_1_X_test, model_1_y_test)\n",
    "# ax.scatter(model_1_X_test, y)\n",
    "ax.plot(model_1_X_test, model_1_y_pred, c='r')"
   ],
   "metadata": {
    "collapsed": false,
    "ExecuteTime": {
     "end_time": "2024-02-04T20:02:42.352202200Z",
     "start_time": "2024-02-04T20:02:42.211427500Z"
    }
   },
   "id": "449a6ab600b53477",
   "execution_count": 7
  },
  {
   "cell_type": "code",
   "outputs": [],
   "source": [],
   "metadata": {
    "collapsed": false
   },
   "id": "4e659a4766892228"
  }
 ],
 "metadata": {
  "kernelspec": {
   "display_name": "Python 3",
   "language": "python",
   "name": "python3"
  },
  "language_info": {
   "codemirror_mode": {
    "name": "ipython",
    "version": 2
   },
   "file_extension": ".py",
   "mimetype": "text/x-python",
   "name": "python",
   "nbconvert_exporter": "python",
   "pygments_lexer": "ipython2",
   "version": "2.7.6"
  }
 },
 "nbformat": 4,
 "nbformat_minor": 5
}
