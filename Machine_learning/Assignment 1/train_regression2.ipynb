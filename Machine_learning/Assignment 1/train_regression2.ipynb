{
 "cells": [
  {
   "cell_type": "code",
   "execution_count": 1,
   "id": "initial_id",
   "metadata": {
    "collapsed": true,
    "ExecuteTime": {
     "end_time": "2024-02-04T19:53:24.848863200Z",
     "start_time": "2024-02-04T19:53:20.397455100Z"
    }
   },
   "outputs": [],
   "source": [
    "import pickle\n",
    "import numpy as np\n",
    "import matplotlib.pyplot as plt\n",
    "from sklearn.datasets import load_iris\n",
    "from sklearn.model_selection import StratifiedShuffleSplit  # to get even classes in the test split\n",
    "from sklearn.model_selection import train_test_split\n",
    "from LinearRegression import LinearRegression\n",
    "\n"
   ]
  },
  {
   "cell_type": "code",
   "outputs": [],
   "source": [
    "iris = load_iris()\n",
    "# Splitting data into test set with even classes\n",
    "lr_data = iris.data\n",
    "\n"
   ],
   "metadata": {
    "collapsed": false,
    "ExecuteTime": {
     "end_time": "2024-02-04T19:53:32.108233900Z",
     "start_time": "2024-02-04T19:53:32.077801300Z"
    }
   },
   "id": "aace885c954d9a3f",
   "execution_count": 2
  },
  {
   "cell_type": "code",
   "outputs": [],
   "source": [
    "# model_1_X = np.vstack((lr_data[:,0], lr_data[:,2])).transpose()\n",
    "model_1_X = lr_data[:, 0]  # sepal length \n",
    "model_1_y = lr_data[:, 2]  # target= petal length\n",
    "\n"
   ],
   "metadata": {
    "collapsed": false,
    "ExecuteTime": {
     "end_time": "2024-02-04T19:56:41.341308300Z",
     "start_time": "2024-02-04T19:56:41.315726700Z"
    }
   },
   "id": "a09b2fc9a1137147",
   "execution_count": 8
  },
  {
   "cell_type": "code",
   "outputs": [],
   "source": [
    "# # Use StratifiedShuffleSplit to select 10% of the data with an even split\n",
    "# sss = StratifiedShuffleSplit(n_splits=1, test_size=0.1, random_state=42)\n",
    "# \n",
    "# for train_index, test_index in sss.split(model_1_X, model_1_y):\n",
    "#     X_subset, y_subset = model_1_X[test_index], model_1_y[test_index]\n",
    "# Now, X_subset and y_subset contain the randomly selected 10% of the Iris dataset with an even split of each class\n",
    "# display(X_subset,y_subset)\n",
    "model_1_X_train, model_1_X_test, model_1_y_train, model_1_y_test = train_test_split(model_1_X, model_1_y, test_size=0.1,\n",
    "                                                                                    random_state=42)\n",
    "\n"
   ],
   "metadata": {
    "collapsed": false,
    "ExecuteTime": {
     "end_time": "2024-02-04T19:53:49.881055200Z",
     "start_time": "2024-02-04T19:53:49.870103400Z"
    }
   },
   "id": "51f5cfedb630a6fb",
   "execution_count": 4
  },
  {
   "cell_type": "code",
   "outputs": [
    {
     "name": "stdout",
     "output_type": "stream",
     "text": [
      "[0.63939725]\n"
     ]
    }
   ],
   "source": [
    "reg = LinearRegression()\n",
    "reg.fit(model_1_X_train, model_1_y_train, regularization=2)\n",
    "b = reg.bias\n",
    "m = reg.weights[0]\n"
   ],
   "metadata": {
    "collapsed": false,
    "ExecuteTime": {
     "end_time": "2024-02-04T19:53:58.448473400Z",
     "start_time": "2024-02-04T19:53:58.435013900Z"
    }
   },
   "id": "1436f29e2de43ccc",
   "execution_count": 5
  },
  {
   "cell_type": "code",
   "outputs": [
    {
     "data": {
      "text/plain": "1.9326501936332798"
     },
     "execution_count": 6,
     "metadata": {},
     "output_type": "execute_result"
    }
   ],
   "source": [
    "model_1_y_pred = reg.predict(model_1_X_test)\n",
    "model_1_y_pred\n",
    "reg.score(model_1_X_test, model_1_y_test)\n",
    "# y_hat = reg.predict(data)\n",
    "\n"
   ],
   "metadata": {
    "collapsed": false,
    "ExecuteTime": {
     "end_time": "2024-02-04T19:54:04.199348500Z",
     "start_time": "2024-02-04T19:54:04.160410300Z"
    }
   },
   "id": "46f5d38b7b03a636",
   "execution_count": 6
  },
  {
   "cell_type": "code",
   "outputs": [],
   "source": [
    "with open('reg_model_2.pkl', 'wb') as f:\n",
    "    pickle.dump(reg,f)"
   ],
   "metadata": {
    "collapsed": false,
    "ExecuteTime": {
     "end_time": "2024-02-04T20:13:31.129896600Z",
     "start_time": "2024-02-04T20:13:31.107932200Z"
    }
   },
   "id": "b33a8a330628773",
   "execution_count": 9
  },
  {
   "cell_type": "code",
   "outputs": [
    {
     "data": {
      "text/plain": "[<matplotlib.lines.Line2D at 0x24699299ee0>]"
     },
     "execution_count": 7,
     "metadata": {},
     "output_type": "execute_result"
    },
    {
     "data": {
      "text/plain": "<Figure size 640x480 with 1 Axes>",
      "image/png": "[encoded data removed]"
     },
     "metadata": {},
     "output_type": "display_data"
    }
   ],
   "source": [
    "# Visualize the new solution\n",
    "fig = plt.figure()\n",
    "ax = fig.add_subplot(111)\n",
    "ax.scatter(model_1_X_test, model_1_y_test)\n",
    "# ax.scatter(model_1_X_test, y)\n",
    "ax.plot(model_1_X_test, model_1_y_pred, c='r')"
   ],
   "metadata": {
    "collapsed": false,
    "ExecuteTime": {
     "end_time": "2024-02-04T19:54:06.408567400Z",
     "start_time": "2024-02-04T19:54:06.070311600Z"
    }
   },
   "id": "21a367aaa04faff6",
   "execution_count": 7
  },
  {
   "cell_type": "code",
   "outputs": [],
   "source": [],
   "metadata": {
    "collapsed": false
   },
   "id": "46dd592452437a09"
  }
 ],
 "metadata": {
  "kernelspec": {
   "display_name": "Python 3",
   "language": "python",
   "name": "python3"
  },
  "language_info": {
   "codemirror_mode": {
    "name": "ipython",
    "version": 2
   },
   "file_extension": ".py",
   "mimetype": "text/x-python",
   "name": "python",
   "nbconvert_exporter": "python",
   "pygments_lexer": "ipython2",
   "version": "2.7.6"
  }
 },
 "nbformat": 4,
 "nbformat_minor": 5
}
