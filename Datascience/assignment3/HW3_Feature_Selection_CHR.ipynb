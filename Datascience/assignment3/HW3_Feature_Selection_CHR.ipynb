{
 "cells": [
  {
   "cell_type": "markdown",
   "id": "cf4552c7",
   "metadata": {},
   "source": [
    "# **INSTRUCTIONS**\n",
    "\n",
    "Every learner should submit his/her own homework solutions. However, you are allowed to discuss the homework with each other– but everyone must submit his/her own solution; you may not copy someone else’s solution.\n",
    "\n",
    "The homework consists of two parts:\n",
    "\n",
    "    1. Data from our lives\n",
    "    2. Variable selection\n",
    "\n",
    "Follow the prompts in the attached jupyter notebook. \n",
    "\n",
    "**We are using the same data as for the previous homework**. Use the version you created called **df2** where you already cleaned, dropped some of the variables and also created the dummy variables.\n",
    "\n",
    "Add markdown cells to your analysis to include your solutions, comments, answers. Add as many cells as you need, for easy readability comment when possible. Hopefully this homework will help you develop skills, make you understand the flow of an EDA, get you ready for individual work.\n",
    "\n",
    "**Note:** This homework has a bonus question, so the highest mark that can be earned is a 105.\n",
    "\n",
    "Submission: Send in both a ipynb and a pdf file of your work.\n",
    "\n",
    "Good luck!\n"
   ]
  },
  {
   "cell_type": "markdown",
   "id": "24d0c393",
   "metadata": {},
   "source": [
    "# 1. Data from our lives:"
   ]
  },
  {
   "cell_type": "markdown",
   "id": "3dd3b2cd",
   "metadata": {},
   "source": [
    "### Describe a situation or problem from your job, everyday life, current events, etc., for which a variable selection/feature reduction would be appropriate."
   ]
  },
  {
   "cell_type": "markdown",
   "id": "0eef2c7c",
   "metadata": {},
   "source": [
    "*Your Answer:*"
   ]
  },
  {
   "cell_type": "markdown",
   "id": "3406694b-ec41-41d4-b39c-4018e0fff8f3",
   "metadata": {},
   "source": [
    "<div style=\"background-color: #1e228f; padding: 15px; border: 1px solid #000205; border-radius: 5px;\">\n",
    "\n",
    "1. Lets consider a situation where we need to **plan a Healthy diet**. There are variety of foods, each with different nutritional components such as calories, proteins, fats, vitamins, and minerals. The **aim of the diet is to meet nutritional needs without considering too many choices**.\n",
    "Variable selection or feature reduction, in this context, would help to **identify crucial nutritional components** and focus on selecting foods that contribute positively to your health goals. For example, prioritizing foods rich in nutrients such as fruits and vegetables, lean proteins, whole grains, and healthy fats.\n",
    "\n",
    "2. Another example can be a survey that was conducted by a teacher to improve **quality of classes** taught. This might be dependent upon factors like **syllabus, class timings, practice/Assignments**, method of teaching(online/in-person) etc. All these factors affect the quality of classes, but **syllabus and Assignments given in class would be of more priority** than class timings to estimate quality of teaching.\n",
    "</div>"
   ]
  },
  {
   "cell_type": "markdown",
   "id": "9efca705",
   "metadata": {},
   "source": [
    "# 2. Variable selection"
   ]
  },
  {
   "attachments": {},
   "cell_type": "markdown",
   "id": "df663623",
   "metadata": {},
   "source": [
    "In our class so far we covered three types of feature selection techniques. They were: \n",
    "1. Filter methods\n",
    "2. Wrapper methods\n",
    "3. Embedded methods"
   ]
  },
  {
   "cell_type": "markdown",
   "id": "5bc407fc",
   "metadata": {},
   "source": [
    "Use the dataset 'auto_imports1.csv' from our previous homework. More specifically, use the version you created called **df2** where you already cleaned, dropped some of the variables and also created the dummy variables."
   ]
  },
  {
   "cell_type": "code",
   "execution_count": 119,
   "id": "bbba7a18",
   "metadata": {},
   "outputs": [],
   "source": [
    "import numpy as np\n",
    "import pandas as pd\n",
    "import seaborn as sns"
   ]
  },
  {
   "cell_type": "markdown",
   "id": "43e6f8f4",
   "metadata": {},
   "source": [
    "# 2.1. Filtered methods\n",
    "\n",
    "Choose one (you may do more, one is required) of the filtered methods to conduct variable selection. Report your findigs"
   ]
  },
  {
   "cell_type": "markdown",
   "id": "bf64e654-dd94-419e-aa9c-7be990780c62",
   "metadata": {},
   "source": [
    "<div style=\"background-color:  #1e228f; padding: 10px; border-radius: 5px;\">\n",
    "    <h2 style=\"color:#ffffff;\">Univariate selection</h2>\n",
    "    <p style=\"font-style: italic;\">SelectKBest</p>\n",
    "</div>\n",
    "\n",
    "<div style=\"background-color: #1e228f; padding: 15px; border: 1px solid #000205; border-radius: 5px;\">\r",
    " Here Univariate selection is done using Select K Best method. In this case, the model is fed the independent variables and target variable through the dataset and we get output as a dataset with reduced dimensionality based on the number of features required..\r\n",
    "</div>\r\n"
   ]
  },
  {
   "cell_type": "code",
   "execution_count": 120,
   "id": "6b1b0cd6-9ce6-4f9b-82fa-71979fedb347",
   "metadata": {},
   "outputs": [],
   "source": [
    "# importing libraries\n",
    "from sklearn.feature_selection import SelectKBest, f_regression, chi2, f_classif\n",
    "from sklearn.model_selection import train_test_split\n",
    "from sklearn.linear_model import LinearRegression\n",
    "df=pd.read_csv('df3.csv') # importing previously cleaned dataset which is df3 in this case"
   ]
  },
  {
   "cell_type": "code",
   "execution_count": 121,
   "id": "822220ed-e602-437c-9c43-02e754a43ddd",
   "metadata": {},
   "outputs": [
    {
     "data": {
      "text/html": [
       "<div>\n",
       "<style scoped>\n",
       "    .dataframe tbody tr th:only-of-type {\n",
       "        vertical-align: middle;\n",
       "    }\n",
       "\n",
       "    .dataframe tbody tr th {\n",
       "        vertical-align: top;\n",
       "    }\n",
       "\n",
       "    .dataframe thead th {\n",
       "        text-align: right;\n",
       "    }\n",
       "</style>\n",
       "<table border=\"1\" class=\"dataframe\">\n",
       "  <thead>\n",
       "    <tr style=\"text-align: right;\">\n",
       "      <th></th>\n",
       "      <th>Unnamed: 0</th>\n",
       "      <th>wheel_base</th>\n",
       "      <th>length</th>\n",
       "      <th>width</th>\n",
       "      <th>heights</th>\n",
       "      <th>curb_weight</th>\n",
       "      <th>engine_size</th>\n",
       "      <th>bore</th>\n",
       "      <th>stroke</th>\n",
       "      <th>comprassion</th>\n",
       "      <th>horse_power</th>\n",
       "      <th>peak_rpm</th>\n",
       "      <th>city_mpg</th>\n",
       "      <th>highway_mpg</th>\n",
       "      <th>price</th>\n",
       "      <th>fuel_type_gas</th>\n",
       "    </tr>\n",
       "  </thead>\n",
       "  <tbody>\n",
       "    <tr>\n",
       "      <th>0</th>\n",
       "      <td>0</td>\n",
       "      <td>88.6</td>\n",
       "      <td>168.8</td>\n",
       "      <td>64.1</td>\n",
       "      <td>48.8</td>\n",
       "      <td>2548.0</td>\n",
       "      <td>130.0</td>\n",
       "      <td>3.47</td>\n",
       "      <td>2.68</td>\n",
       "      <td>9.0</td>\n",
       "      <td>111.0</td>\n",
       "      <td>5000.0</td>\n",
       "      <td>21.0</td>\n",
       "      <td>27</td>\n",
       "      <td>13495.0</td>\n",
       "      <td>1</td>\n",
       "    </tr>\n",
       "    <tr>\n",
       "      <th>1</th>\n",
       "      <td>1</td>\n",
       "      <td>88.6</td>\n",
       "      <td>168.8</td>\n",
       "      <td>64.1</td>\n",
       "      <td>48.8</td>\n",
       "      <td>2548.0</td>\n",
       "      <td>130.0</td>\n",
       "      <td>3.47</td>\n",
       "      <td>2.68</td>\n",
       "      <td>9.0</td>\n",
       "      <td>111.0</td>\n",
       "      <td>5000.0</td>\n",
       "      <td>21.0</td>\n",
       "      <td>27</td>\n",
       "      <td>16500.0</td>\n",
       "      <td>1</td>\n",
       "    </tr>\n",
       "    <tr>\n",
       "      <th>2</th>\n",
       "      <td>2</td>\n",
       "      <td>94.5</td>\n",
       "      <td>171.2</td>\n",
       "      <td>65.5</td>\n",
       "      <td>52.4</td>\n",
       "      <td>2823.0</td>\n",
       "      <td>152.0</td>\n",
       "      <td>2.68</td>\n",
       "      <td>3.47</td>\n",
       "      <td>9.0</td>\n",
       "      <td>154.0</td>\n",
       "      <td>5000.0</td>\n",
       "      <td>19.0</td>\n",
       "      <td>26</td>\n",
       "      <td>16500.0</td>\n",
       "      <td>1</td>\n",
       "    </tr>\n",
       "    <tr>\n",
       "      <th>3</th>\n",
       "      <td>3</td>\n",
       "      <td>99.8</td>\n",
       "      <td>176.6</td>\n",
       "      <td>66.2</td>\n",
       "      <td>54.3</td>\n",
       "      <td>2337.0</td>\n",
       "      <td>109.0</td>\n",
       "      <td>3.19</td>\n",
       "      <td>3.40</td>\n",
       "      <td>10.0</td>\n",
       "      <td>102.0</td>\n",
       "      <td>5500.0</td>\n",
       "      <td>24.0</td>\n",
       "      <td>30</td>\n",
       "      <td>13950.0</td>\n",
       "      <td>1</td>\n",
       "    </tr>\n",
       "    <tr>\n",
       "      <th>4</th>\n",
       "      <td>4</td>\n",
       "      <td>99.4</td>\n",
       "      <td>176.6</td>\n",
       "      <td>66.4</td>\n",
       "      <td>54.3</td>\n",
       "      <td>2824.0</td>\n",
       "      <td>136.0</td>\n",
       "      <td>3.19</td>\n",
       "      <td>3.40</td>\n",
       "      <td>8.0</td>\n",
       "      <td>115.0</td>\n",
       "      <td>5500.0</td>\n",
       "      <td>18.0</td>\n",
       "      <td>22</td>\n",
       "      <td>17450.0</td>\n",
       "      <td>1</td>\n",
       "    </tr>\n",
       "  </tbody>\n",
       "</table>\n",
       "</div>"
      ],
      "text/plain": [
       "   Unnamed: 0  wheel_base  length  width  heights  curb_weight  engine_size  \\\n",
       "0           0        88.6   168.8   64.1     48.8       2548.0        130.0   \n",
       "1           1        88.6   168.8   64.1     48.8       2548.0        130.0   \n",
       "2           2        94.5   171.2   65.5     52.4       2823.0        152.0   \n",
       "3           3        99.8   176.6   66.2     54.3       2337.0        109.0   \n",
       "4           4        99.4   176.6   66.4     54.3       2824.0        136.0   \n",
       "\n",
       "   bore  stroke  comprassion  horse_power  peak_rpm  city_mpg  highway_mpg  \\\n",
       "0  3.47    2.68          9.0        111.0    5000.0      21.0           27   \n",
       "1  3.47    2.68          9.0        111.0    5000.0      21.0           27   \n",
       "2  2.68    3.47          9.0        154.0    5000.0      19.0           26   \n",
       "3  3.19    3.40         10.0        102.0    5500.0      24.0           30   \n",
       "4  3.19    3.40          8.0        115.0    5500.0      18.0           22   \n",
       "\n",
       "     price  fuel_type_gas  \n",
       "0  13495.0              1  \n",
       "1  16500.0              1  \n",
       "2  16500.0              1  \n",
       "3  13950.0              1  \n",
       "4  17450.0              1  "
      ]
     },
     "execution_count": 121,
     "metadata": {},
     "output_type": "execute_result"
    }
   ],
   "source": [
    "df.head()"
   ]
  },
  {
   "cell_type": "code",
   "execution_count": 122,
   "id": "04095ad1-14ff-41f8-a4b6-78a90ff02859",
   "metadata": {},
   "outputs": [
    {
     "data": {
      "text/plain": [
       "(195, 16)"
      ]
     },
     "execution_count": 122,
     "metadata": {},
     "output_type": "execute_result"
    }
   ],
   "source": [
    "df.shape"
   ]
  },
  {
   "cell_type": "code",
   "execution_count": 123,
   "id": "2331b783-81c7-4fd3-b804-bcb936a3e9a9",
   "metadata": {},
   "outputs": [],
   "source": [
    "# Split df into x and Y\n",
    "target_col = \"price\"\n",
    "X = df.loc[:, df.columns != target_col] # selecting all independent features/variables\n",
    "y = df.loc[:, target_col] # selecting the target variable. Here it is price column"
   ]
  },
  {
   "cell_type": "code",
   "execution_count": 124,
   "id": "045e8fd6-3ba4-417e-9017-f26025ab26a2",
   "metadata": {},
   "outputs": [
    {
     "data": {
      "text/plain": [
       "(195, 15)"
      ]
     },
     "execution_count": 124,
     "metadata": {},
     "output_type": "execute_result"
    }
   ],
   "source": [
    "X.shape"
   ]
  },
  {
   "cell_type": "code",
   "execution_count": 125,
   "id": "c2e96f58-5af8-413b-9bca-952fc53bc249",
   "metadata": {},
   "outputs": [
    {
     "data": {
      "text/plain": [
       "(195,)"
      ]
     },
     "execution_count": 125,
     "metadata": {},
     "output_type": "execute_result"
    }
   ],
   "source": [
    "y.shape"
   ]
  },
  {
   "cell_type": "code",
   "execution_count": 126,
   "id": "1c864f71-27c8-4ac6-bbfa-cd2e5efd0b5d",
   "metadata": {},
   "outputs": [],
   "source": [
    "# Split the data into train and test with 70% data being used for training\n",
    "X_train, X_test, y_train, y_test = train_test_split(X, y, test_size=0.30, random_state=42)"
   ]
  },
  {
   "cell_type": "code",
   "execution_count": 127,
   "id": "bba25af8-2d16-45a3-b3b7-5b33b3190953",
   "metadata": {},
   "outputs": [
    {
     "data": {
      "text/html": [
       "<div>\n",
       "<style scoped>\n",
       "    .dataframe tbody tr th:only-of-type {\n",
       "        vertical-align: middle;\n",
       "    }\n",
       "\n",
       "    .dataframe tbody tr th {\n",
       "        vertical-align: top;\n",
       "    }\n",
       "\n",
       "    .dataframe thead th {\n",
       "        text-align: right;\n",
       "    }\n",
       "</style>\n",
       "<table border=\"1\" class=\"dataframe\">\n",
       "  <thead>\n",
       "    <tr style=\"text-align: right;\">\n",
       "      <th></th>\n",
       "      <th>Unnamed: 0</th>\n",
       "      <th>wheel_base</th>\n",
       "      <th>length</th>\n",
       "      <th>width</th>\n",
       "      <th>heights</th>\n",
       "      <th>curb_weight</th>\n",
       "      <th>engine_size</th>\n",
       "      <th>bore</th>\n",
       "      <th>stroke</th>\n",
       "      <th>comprassion</th>\n",
       "      <th>horse_power</th>\n",
       "      <th>peak_rpm</th>\n",
       "      <th>city_mpg</th>\n",
       "      <th>highway_mpg</th>\n",
       "      <th>fuel_type_gas</th>\n",
       "    </tr>\n",
       "  </thead>\n",
       "  <tbody>\n",
       "    <tr>\n",
       "      <th>38</th>\n",
       "      <td>38</td>\n",
       "      <td>96.5</td>\n",
       "      <td>175.4</td>\n",
       "      <td>65.2</td>\n",
       "      <td>54.1</td>\n",
       "      <td>2304.0</td>\n",
       "      <td>110.0</td>\n",
       "      <td>3.15</td>\n",
       "      <td>3.58</td>\n",
       "      <td>9.00</td>\n",
       "      <td>86.0</td>\n",
       "      <td>5800.0</td>\n",
       "      <td>27.0</td>\n",
       "      <td>33</td>\n",
       "      <td>1</td>\n",
       "    </tr>\n",
       "    <tr>\n",
       "      <th>31</th>\n",
       "      <td>31</td>\n",
       "      <td>93.7</td>\n",
       "      <td>150.0</td>\n",
       "      <td>64.0</td>\n",
       "      <td>52.6</td>\n",
       "      <td>1837.0</td>\n",
       "      <td>79.0</td>\n",
       "      <td>2.91</td>\n",
       "      <td>3.07</td>\n",
       "      <td>10.10</td>\n",
       "      <td>60.0</td>\n",
       "      <td>5500.0</td>\n",
       "      <td>38.0</td>\n",
       "      <td>42</td>\n",
       "      <td>1</td>\n",
       "    </tr>\n",
       "    <tr>\n",
       "      <th>173</th>\n",
       "      <td>173</td>\n",
       "      <td>97.3</td>\n",
       "      <td>171.7</td>\n",
       "      <td>65.5</td>\n",
       "      <td>55.7</td>\n",
       "      <td>2209.0</td>\n",
       "      <td>109.0</td>\n",
       "      <td>3.19</td>\n",
       "      <td>3.40</td>\n",
       "      <td>9.00</td>\n",
       "      <td>85.0</td>\n",
       "      <td>5250.0</td>\n",
       "      <td>27.0</td>\n",
       "      <td>34</td>\n",
       "      <td>1</td>\n",
       "    </tr>\n",
       "    <tr>\n",
       "      <th>12</th>\n",
       "      <td>12</td>\n",
       "      <td>101.2</td>\n",
       "      <td>176.8</td>\n",
       "      <td>64.8</td>\n",
       "      <td>54.3</td>\n",
       "      <td>2765.0</td>\n",
       "      <td>164.0</td>\n",
       "      <td>3.31</td>\n",
       "      <td>3.19</td>\n",
       "      <td>9.00</td>\n",
       "      <td>121.0</td>\n",
       "      <td>4250.0</td>\n",
       "      <td>21.0</td>\n",
       "      <td>28</td>\n",
       "      <td>1</td>\n",
       "    </tr>\n",
       "    <tr>\n",
       "      <th>109</th>\n",
       "      <td>109</td>\n",
       "      <td>107.9</td>\n",
       "      <td>186.7</td>\n",
       "      <td>68.4</td>\n",
       "      <td>56.7</td>\n",
       "      <td>3252.0</td>\n",
       "      <td>152.0</td>\n",
       "      <td>3.70</td>\n",
       "      <td>3.52</td>\n",
       "      <td>10.75</td>\n",
       "      <td>95.0</td>\n",
       "      <td>4150.0</td>\n",
       "      <td>28.0</td>\n",
       "      <td>33</td>\n",
       "      <td>0</td>\n",
       "    </tr>\n",
       "  </tbody>\n",
       "</table>\n",
       "</div>"
      ],
      "text/plain": [
       "     Unnamed: 0  wheel_base  length  width  heights  curb_weight  engine_size  \\\n",
       "38           38        96.5   175.4   65.2     54.1       2304.0        110.0   \n",
       "31           31        93.7   150.0   64.0     52.6       1837.0         79.0   \n",
       "173         173        97.3   171.7   65.5     55.7       2209.0        109.0   \n",
       "12           12       101.2   176.8   64.8     54.3       2765.0        164.0   \n",
       "109         109       107.9   186.7   68.4     56.7       3252.0        152.0   \n",
       "\n",
       "     bore  stroke  comprassion  horse_power  peak_rpm  city_mpg  highway_mpg  \\\n",
       "38   3.15    3.58         9.00         86.0    5800.0      27.0           33   \n",
       "31   2.91    3.07        10.10         60.0    5500.0      38.0           42   \n",
       "173  3.19    3.40         9.00         85.0    5250.0      27.0           34   \n",
       "12   3.31    3.19         9.00        121.0    4250.0      21.0           28   \n",
       "109  3.70    3.52        10.75         95.0    4150.0      28.0           33   \n",
       "\n",
       "     fuel_type_gas  \n",
       "38               1  \n",
       "31               1  \n",
       "173              1  \n",
       "12               1  \n",
       "109              0  "
      ]
     },
     "execution_count": 127,
     "metadata": {},
     "output_type": "execute_result"
    }
   ],
   "source": [
    "X_train.head()"
   ]
  },
  {
   "cell_type": "markdown",
   "id": "afb0ecc8-2628-40f4-bf98-c1b4e860cd05",
   "metadata": {},
   "source": [
    "<div style=\"background-color: #1e228f; padding: 15px; border: 1px solid #000205; border-radius: 5px;\">\n",
    "\n",
    "- Since the independent and target variabel are continous values, the f_regression scoring criteria is used for the SelectK Best. Here, the SelectK best is applied to X_train and y_train data with the best k features and stored in a new variable X_new. \n",
    "</div>"
   ]
  },
  {
   "cell_type": "code",
   "execution_count": 128,
   "id": "f7abe461-9d8d-4fdb-ac3e-ce752415ee97",
   "metadata": {},
   "outputs": [],
   "source": [
    "X_new = SelectKBest(f_regression, k=5).fit_transform(X_train, y_train) "
   ]
  },
  {
   "cell_type": "markdown",
   "id": "597c9d2b-2ea2-4685-9f4c-321ad0caa2c9",
   "metadata": {},
   "source": [
    "<div style=\"background-color: #1e228f; padding: 15px; border: 1px solid #000205; border-radius: 5px;\">\n",
    "\n",
    "- We can compare the below output of the selectK best to the X_train data shown above. The X_train data has all the original columns.\n",
    "- The X_new data has only 5 columns/features that the SelectK best function has choosen as most significant. If we look closer we can see that the columns selected are width,curb_weight,engine_size,horse_power and highway_mpg.\n",
    "</div>"
   ]
  },
  {
   "cell_type": "code",
   "execution_count": 129,
   "id": "c4aec886-c708-41a1-b5d5-045662d8fc8a",
   "metadata": {},
   "outputs": [
    {
     "data": {
      "text/plain": [
       "array([[  65.2, 2304. ,  110. ,   86. ,   33. ],\n",
       "       [  64. , 1837. ,   79. ,   60. ,   42. ],\n",
       "       [  65.5, 2209. ,  109. ,   85. ,   34. ],\n",
       "       [  64.8, 2765. ,  164. ,  121. ,   28. ],\n",
       "       [  68.4, 3252. ,  152. ,   95. ,   33. ]])"
      ]
     },
     "execution_count": 129,
     "metadata": {},
     "output_type": "execute_result"
    }
   ],
   "source": [
    "X_new[0:5] # checking first 5 rows"
   ]
  },
  {
   "cell_type": "code",
   "execution_count": 130,
   "id": "c71d233a-f537-462e-82f8-0cec43c633ae",
   "metadata": {},
   "outputs": [
    {
     "name": "stdout",
     "output_type": "stream",
     "text": [
      "[464.57715223   3.75221554  77.2118558   47.52831261  86.79977083]\n"
     ]
    }
   ],
   "source": [
    "model = LinearRegression()\n",
    "model.fit(X_new, y_train) #training new K best features data with target variable.\n",
    "print(model.coef_) # printing coefficients for new data with k best features"
   ]
  },
  {
   "cell_type": "markdown",
   "id": "38b492b9-448c-45fe-a41a-50171910ca7c",
   "metadata": {},
   "source": [
    "<div style=\"background-color: #1e228f; padding: 15px; border: 1px solid #000205; border-radius: 5px;\">\n",
    "     \n",
    "- According to the coefficients above, we observe that the width column has the greates coefficient value. This means that the any change in width will directly affect the price of the vehicle(car).\n",
    "</div>"
   ]
  },
  {
   "cell_type": "markdown",
   "id": "e0cdd874",
   "metadata": {},
   "source": [
    "# 2.2. Wrapper methods\n",
    "\n",
    "Choose one (you may do more, one is required) of the wrapper methods to conduct variable selection. Report your findigs."
   ]
  },
  {
   "cell_type": "markdown",
   "id": "0a2f9951-53c9-488b-b093-5dc74484e433",
   "metadata": {},
   "source": [
    "<div style=\"background-color:  #1e228f; padding: 10px; border-radius: 5px;\">\r\n",
    "    <h2 style=\"color#0002053;\">Recursive Feature Elimination </h2>\r\n",
    "  <p style=\"font-style: italic;\">RFE</p> \n",
    "</div>\n",
    "<div style=\"background-color: #1e228f; padding: 15px; border: 1px solid #000205; border-radius: 5px;\">  \n",
    "\n",
    "- Here Recursive Feature Elimination (RFE) is done using RandomForestRegressor as an estimator for the function. In this case, the model is fed the independent variables and target variable.\n",
    "  </div>aria"
   ]
  },
  {
   "cell_type": "code",
   "execution_count": 131,
   "id": "d8484623",
   "metadata": {},
   "outputs": [],
   "source": [
    "from sklearn.feature_selection import RFE\n",
    "from sklearn.ensemble import RandomForestRegressor"
   ]
  },
  {
   "cell_type": "code",
   "execution_count": 132,
   "id": "2b9df064-59d7-471a-bf1b-0eda5b49808d",
   "metadata": {},
   "outputs": [
    {
     "data": {
      "text/html": [
       "<style>#sk-container-id-7 {color: black;}#sk-container-id-7 pre{padding: 0;}#sk-container-id-7 div.sk-toggleable {background-color: white;}#sk-container-id-7 label.sk-toggleable__label {cursor: pointer;display: block;width: 100%;margin-bottom: 0;padding: 0.3em;box-sizing: border-box;text-align: center;}#sk-container-id-7 label.sk-toggleable__label-arrow:before {content: \"▸\";float: left;margin-right: 0.25em;color: #696969;}#sk-container-id-7 label.sk-toggleable__label-arrow:hover:before {color: black;}#sk-container-id-7 div.sk-estimator:hover label.sk-toggleable__label-arrow:before {color: black;}#sk-container-id-7 div.sk-toggleable__content {max-height: 0;max-width: 0;overflow: hidden;text-align: left;background-color: #f0f8ff;}#sk-container-id-7 div.sk-toggleable__content pre {margin: 0.2em;color: black;border-radius: 0.25em;background-color: #f0f8ff;}#sk-container-id-7 input.sk-toggleable__control:checked~div.sk-toggleable__content {max-height: 200px;max-width: 100%;overflow: auto;}#sk-container-id-7 input.sk-toggleable__control:checked~label.sk-toggleable__label-arrow:before {content: \"▾\";}#sk-container-id-7 div.sk-estimator input.sk-toggleable__control:checked~label.sk-toggleable__label {background-color: #d4ebff;}#sk-container-id-7 div.sk-label input.sk-toggleable__control:checked~label.sk-toggleable__label {background-color: #d4ebff;}#sk-container-id-7 input.sk-hidden--visually {border: 0;clip: rect(1px 1px 1px 1px);clip: rect(1px, 1px, 1px, 1px);height: 1px;margin: -1px;overflow: hidden;padding: 0;position: absolute;width: 1px;}#sk-container-id-7 div.sk-estimator {font-family: monospace;background-color: #f0f8ff;border: 1px dotted black;border-radius: 0.25em;box-sizing: border-box;margin-bottom: 0.5em;}#sk-container-id-7 div.sk-estimator:hover {background-color: #d4ebff;}#sk-container-id-7 div.sk-parallel-item::after {content: \"\";width: 100%;border-bottom: 1px solid gray;flex-grow: 1;}#sk-container-id-7 div.sk-label:hover label.sk-toggleable__label {background-color: #d4ebff;}#sk-container-id-7 div.sk-serial::before {content: \"\";position: absolute;border-left: 1px solid gray;box-sizing: border-box;top: 0;bottom: 0;left: 50%;z-index: 0;}#sk-container-id-7 div.sk-serial {display: flex;flex-direction: column;align-items: center;background-color: white;padding-right: 0.2em;padding-left: 0.2em;position: relative;}#sk-container-id-7 div.sk-item {position: relative;z-index: 1;}#sk-container-id-7 div.sk-parallel {display: flex;align-items: stretch;justify-content: center;background-color: white;position: relative;}#sk-container-id-7 div.sk-item::before, #sk-container-id-7 div.sk-parallel-item::before {content: \"\";position: absolute;border-left: 1px solid gray;box-sizing: border-box;top: 0;bottom: 0;left: 50%;z-index: -1;}#sk-container-id-7 div.sk-parallel-item {display: flex;flex-direction: column;z-index: 1;position: relative;background-color: white;}#sk-container-id-7 div.sk-parallel-item:first-child::after {align-self: flex-end;width: 50%;}#sk-container-id-7 div.sk-parallel-item:last-child::after {align-self: flex-start;width: 50%;}#sk-container-id-7 div.sk-parallel-item:only-child::after {width: 0;}#sk-container-id-7 div.sk-dashed-wrapped {border: 1px dashed gray;margin: 0 0.4em 0.5em 0.4em;box-sizing: border-box;padding-bottom: 0.4em;background-color: white;}#sk-container-id-7 div.sk-label label {font-family: monospace;font-weight: bold;display: inline-block;line-height: 1.2em;}#sk-container-id-7 div.sk-label-container {text-align: center;}#sk-container-id-7 div.sk-container {/* jupyter's `normalize.less` sets `[hidden] { display: none; }` but bootstrap.min.css set `[hidden] { display: none !important; }` so we also need the `!important` here to be able to override the default hidden behavior on the sphinx rendered scikit-learn.org. See: https://github.com/scikit-learn/scikit-learn/issues/21755 */display: inline-block !important;position: relative;}#sk-container-id-7 div.sk-text-repr-fallback {display: none;}</style><div id=\"sk-container-id-7\" class=\"sk-top-container\"><div class=\"sk-text-repr-fallback\"><pre>RFE(estimator=RandomForestRegressor(), n_features_to_select=6)</pre><b>In a Jupyter environment, please rerun this cell to show the HTML representation or trust the notebook. <br />On GitHub, the HTML representation is unable to render, please try loading this page with nbviewer.org.</b></div><div class=\"sk-container\" hidden><div class=\"sk-item sk-dashed-wrapped\"><div class=\"sk-label-container\"><div class=\"sk-label sk-toggleable\"><input class=\"sk-toggleable__control sk-hidden--visually\" id=\"sk-estimator-id-19\" type=\"checkbox\" ><label for=\"sk-estimator-id-19\" class=\"sk-toggleable__label sk-toggleable__label-arrow\">RFE</label><div class=\"sk-toggleable__content\"><pre>RFE(estimator=RandomForestRegressor(), n_features_to_select=6)</pre></div></div></div><div class=\"sk-parallel\"><div class=\"sk-parallel-item\"><div class=\"sk-item\"><div class=\"sk-label-container\"><div class=\"sk-label sk-toggleable\"><input class=\"sk-toggleable__control sk-hidden--visually\" id=\"sk-estimator-id-20\" type=\"checkbox\" ><label for=\"sk-estimator-id-20\" class=\"sk-toggleable__label sk-toggleable__label-arrow\">estimator: RandomForestRegressor</label><div class=\"sk-toggleable__content\"><pre>RandomForestRegressor()</pre></div></div></div><div class=\"sk-serial\"><div class=\"sk-item\"><div class=\"sk-estimator sk-toggleable\"><input class=\"sk-toggleable__control sk-hidden--visually\" id=\"sk-estimator-id-21\" type=\"checkbox\" ><label for=\"sk-estimator-id-21\" class=\"sk-toggleable__label sk-toggleable__label-arrow\">RandomForestRegressor</label><div class=\"sk-toggleable__content\"><pre>RandomForestRegressor()</pre></div></div></div></div></div></div></div></div></div></div>"
      ],
      "text/plain": [
       "RFE(estimator=RandomForestRegressor(), n_features_to_select=6)"
      ]
     },
     "execution_count": 132,
     "metadata": {},
     "output_type": "execute_result"
    }
   ],
   "source": [
    "# Initialize a linear regression model \n",
    "estimator1 = RandomForestRegressor()\n",
    "\n",
    "# Initialize RFE with the estimator and the number of features to select\n",
    "rfe = RFE(estimator1, n_features_to_select=6)\n",
    "\n",
    "# Fit RFE to the training data\n",
    "rfe.fit(X_train, y_train)"
   ]
  },
  {
   "cell_type": "markdown",
   "id": "098ee27f-480b-4a4a-a7ee-6ae434316b5d",
   "metadata": {},
   "source": [
    "<div style=\"background-color: #1e228f; padding: 15px; border: 1px solid #000205; border-radius: 5px;\">  \n",
    "\n",
    "- The output of the 5 features chosen depends on the estimator being used. Here the estimator for LinearRegression and RandomForestRegressor has been used. Both estimators come up with different features, but the rank of these features are not very different.\n",
    "</div>"
   ]
  },
  {
   "cell_type": "markdown",
   "id": "f560098f-8fb4-4d22-9f39-1f9a59d84661",
   "metadata": {},
   "source": [
    "<div style=\"background-color: #1e228f; padding: 15px; border: 1px solid #000205; border-radius: 5px;\">  \n",
    "\n",
    "- Below the columns have been ranked based on importance of feature to predict target by the RFE function and respective columns have been marked as selected. The lesser the rank of the feature, the more it affects the prediction of target variable.\n",
    "</div>\n"
   ]
  },
  {
   "cell_type": "code",
   "execution_count": 133,
   "id": "a147d9e5-920f-4840-aa80-8db2d7e0b36b",
   "metadata": {},
   "outputs": [
    {
     "name": "stdout",
     "output_type": "stream",
     "text": [
      "Unnamed: 0 | selected=True | rank=1\n",
      "wheel_base | selected=False | rank=3\n",
      "length | selected=False | rank=2\n",
      "width | selected=True | rank=1\n",
      "heights | selected=False | rank=5\n",
      "curb_weight | selected=True | rank=1\n",
      "engine_size | selected=True | rank=1\n",
      "bore | selected=False | rank=7\n",
      "stroke | selected=False | rank=6\n",
      "comprassion | selected=False | rank=9\n",
      "horse_power | selected=False | rank=4\n",
      "peak_rpm | selected=False | rank=8\n",
      "city_mpg | selected=True | rank=1\n",
      "highway_mpg | selected=True | rank=1\n",
      "fuel_type_gas | selected=False | rank=10\n"
     ]
    }
   ],
   "source": [
    "#printing columns and their respective ranks based on RFE output ranks:\n",
    "for i, col in zip(range(X.shape[1]), X.columns):\n",
    "    print(f\"{col} | selected={rfe.support_[i]} | rank={rfe.ranking_[i]}\")"
   ]
  },
  {
   "cell_type": "markdown",
   "id": "c6da5979-efa8-40f7-9041-a68a6890513f",
   "metadata": {},
   "source": [
    "<div style=\"background-color: #1e228f; padding: 15px; border: 1px solid #000205; border-radius: 5px;\">  \n",
    "\n",
    "-  From the above output we can say RFE has selected curb_weight,Unnamed(dummy column), engine_size ,city_mpg and highway_mpg as important features.\n",
    "- Next the coefficients of the selected features are calculated as follows.\n",
    "</div>\n"
   ]
  },
  {
   "cell_type": "code",
   "execution_count": 134,
   "id": "8f8c3050-9aac-475e-8197-2d7b4afeac4d",
   "metadata": {},
   "outputs": [
    {
     "name": "stdout",
     "output_type": "stream",
     "text": [
      "Selected Features for estimator 1:\n",
      "Index(['Unnamed: 0', 'width', 'curb_weight', 'engine_size', 'city_mpg',\n",
      "       'highway_mpg'],\n",
      "      dtype='object')\n",
      "\n",
      "Coefficients:\n",
      "[  -9.86495633  358.23023059    4.38033356   97.47691564 -233.44337596\n",
      "  189.5569851 ]\n"
     ]
    }
   ],
   "source": [
    "# Split the data into training and testing sets for estimator 1\n",
    "X_train_rfe, X_test_rfe, y_train, y_test = train_test_split(X, y, test_size=0.3, random_state=42)\n",
    "reg_model = LinearRegression()\n",
    "\n",
    "# Get the selected features\n",
    "selected_features_indices = rfe.support_\n",
    "# Get the names of the selected features\n",
    "selected_features = X_train.columns[selected_features_indices]\n",
    "# Display the selected features\n",
    "print(\"Selected Features for estimator 1:\")\n",
    "print(selected_features)\n",
    "# Fit the linear regression model using the selected features\n",
    "reg_model.fit(X_train[selected_features], y_train)\n",
    "\n",
    "# Get the coefficients of the linear regression model\n",
    "coefficients = reg_model.coef_\n",
    "\n",
    "# Display the coefficients\n",
    "print(\"\\nCoefficients:\")\n",
    "print(coefficients)"
   ]
  },
  {
   "cell_type": "code",
   "execution_count": 135,
   "id": "83acfa39-beba-4e1e-900a-de09d60f0958",
   "metadata": {},
   "outputs": [
    {
     "data": {
      "text/html": [
       "<style>#sk-container-id-8 {color: black;}#sk-container-id-8 pre{padding: 0;}#sk-container-id-8 div.sk-toggleable {background-color: white;}#sk-container-id-8 label.sk-toggleable__label {cursor: pointer;display: block;width: 100%;margin-bottom: 0;padding: 0.3em;box-sizing: border-box;text-align: center;}#sk-container-id-8 label.sk-toggleable__label-arrow:before {content: \"▸\";float: left;margin-right: 0.25em;color: #696969;}#sk-container-id-8 label.sk-toggleable__label-arrow:hover:before {color: black;}#sk-container-id-8 div.sk-estimator:hover label.sk-toggleable__label-arrow:before {color: black;}#sk-container-id-8 div.sk-toggleable__content {max-height: 0;max-width: 0;overflow: hidden;text-align: left;background-color: #f0f8ff;}#sk-container-id-8 div.sk-toggleable__content pre {margin: 0.2em;color: black;border-radius: 0.25em;background-color: #f0f8ff;}#sk-container-id-8 input.sk-toggleable__control:checked~div.sk-toggleable__content {max-height: 200px;max-width: 100%;overflow: auto;}#sk-container-id-8 input.sk-toggleable__control:checked~label.sk-toggleable__label-arrow:before {content: \"▾\";}#sk-container-id-8 div.sk-estimator input.sk-toggleable__control:checked~label.sk-toggleable__label {background-color: #d4ebff;}#sk-container-id-8 div.sk-label input.sk-toggleable__control:checked~label.sk-toggleable__label {background-color: #d4ebff;}#sk-container-id-8 input.sk-hidden--visually {border: 0;clip: rect(1px 1px 1px 1px);clip: rect(1px, 1px, 1px, 1px);height: 1px;margin: -1px;overflow: hidden;padding: 0;position: absolute;width: 1px;}#sk-container-id-8 div.sk-estimator {font-family: monospace;background-color: #f0f8ff;border: 1px dotted black;border-radius: 0.25em;box-sizing: border-box;margin-bottom: 0.5em;}#sk-container-id-8 div.sk-estimator:hover {background-color: #d4ebff;}#sk-container-id-8 div.sk-parallel-item::after {content: \"\";width: 100%;border-bottom: 1px solid gray;flex-grow: 1;}#sk-container-id-8 div.sk-label:hover label.sk-toggleable__label {background-color: #d4ebff;}#sk-container-id-8 div.sk-serial::before {content: \"\";position: absolute;border-left: 1px solid gray;box-sizing: border-box;top: 0;bottom: 0;left: 50%;z-index: 0;}#sk-container-id-8 div.sk-serial {display: flex;flex-direction: column;align-items: center;background-color: white;padding-right: 0.2em;padding-left: 0.2em;position: relative;}#sk-container-id-8 div.sk-item {position: relative;z-index: 1;}#sk-container-id-8 div.sk-parallel {display: flex;align-items: stretch;justify-content: center;background-color: white;position: relative;}#sk-container-id-8 div.sk-item::before, #sk-container-id-8 div.sk-parallel-item::before {content: \"\";position: absolute;border-left: 1px solid gray;box-sizing: border-box;top: 0;bottom: 0;left: 50%;z-index: -1;}#sk-container-id-8 div.sk-parallel-item {display: flex;flex-direction: column;z-index: 1;position: relative;background-color: white;}#sk-container-id-8 div.sk-parallel-item:first-child::after {align-self: flex-end;width: 50%;}#sk-container-id-8 div.sk-parallel-item:last-child::after {align-self: flex-start;width: 50%;}#sk-container-id-8 div.sk-parallel-item:only-child::after {width: 0;}#sk-container-id-8 div.sk-dashed-wrapped {border: 1px dashed gray;margin: 0 0.4em 0.5em 0.4em;box-sizing: border-box;padding-bottom: 0.4em;background-color: white;}#sk-container-id-8 div.sk-label label {font-family: monospace;font-weight: bold;display: inline-block;line-height: 1.2em;}#sk-container-id-8 div.sk-label-container {text-align: center;}#sk-container-id-8 div.sk-container {/* jupyter's `normalize.less` sets `[hidden] { display: none; }` but bootstrap.min.css set `[hidden] { display: none !important; }` so we also need the `!important` here to be able to override the default hidden behavior on the sphinx rendered scikit-learn.org. See: https://github.com/scikit-learn/scikit-learn/issues/21755 */display: inline-block !important;position: relative;}#sk-container-id-8 div.sk-text-repr-fallback {display: none;}</style><div id=\"sk-container-id-8\" class=\"sk-top-container\"><div class=\"sk-text-repr-fallback\"><pre>RFE(estimator=LinearRegression(), n_features_to_select=5)</pre><b>In a Jupyter environment, please rerun this cell to show the HTML representation or trust the notebook. <br />On GitHub, the HTML representation is unable to render, please try loading this page with nbviewer.org.</b></div><div class=\"sk-container\" hidden><div class=\"sk-item sk-dashed-wrapped\"><div class=\"sk-label-container\"><div class=\"sk-label sk-toggleable\"><input class=\"sk-toggleable__control sk-hidden--visually\" id=\"sk-estimator-id-22\" type=\"checkbox\" ><label for=\"sk-estimator-id-22\" class=\"sk-toggleable__label sk-toggleable__label-arrow\">RFE</label><div class=\"sk-toggleable__content\"><pre>RFE(estimator=LinearRegression(), n_features_to_select=5)</pre></div></div></div><div class=\"sk-parallel\"><div class=\"sk-parallel-item\"><div class=\"sk-item\"><div class=\"sk-label-container\"><div class=\"sk-label sk-toggleable\"><input class=\"sk-toggleable__control sk-hidden--visually\" id=\"sk-estimator-id-23\" type=\"checkbox\" ><label for=\"sk-estimator-id-23\" class=\"sk-toggleable__label sk-toggleable__label-arrow\">estimator: LinearRegression</label><div class=\"sk-toggleable__content\"><pre>LinearRegression()</pre></div></div></div><div class=\"sk-serial\"><div class=\"sk-item\"><div class=\"sk-estimator sk-toggleable\"><input class=\"sk-toggleable__control sk-hidden--visually\" id=\"sk-estimator-id-24\" type=\"checkbox\" ><label for=\"sk-estimator-id-24\" class=\"sk-toggleable__label sk-toggleable__label-arrow\">LinearRegression</label><div class=\"sk-toggleable__content\"><pre>LinearRegression()</pre></div></div></div></div></div></div></div></div></div></div>"
      ],
      "text/plain": [
       "RFE(estimator=LinearRegression(), n_features_to_select=5)"
      ]
     },
     "execution_count": 135,
     "metadata": {},
     "output_type": "execute_result"
    }
   ],
   "source": [
    "# Initialize a linear regression model \n",
    "estimator2 = LinearRegression()\n",
    "\n",
    "# Initialize RFE with the estimator and the number of features to select \n",
    "rfe = RFE(estimator2, n_features_to_select=5)\n",
    "\n",
    "# Fit RFE to the training data\n",
    "rfe.fit(X_train, y_train)"
   ]
  },
  {
   "cell_type": "code",
   "execution_count": 136,
   "id": "c0145e0e-0503-4cd9-a6e4-e805aab873a2",
   "metadata": {},
   "outputs": [
    {
     "name": "stdout",
     "output_type": "stream",
     "text": [
      "Unnamed: 0 | selected=False | rank=9\n",
      "wheel_base | selected=False | rank=6\n",
      "length | selected=False | rank=8\n",
      "width | selected=False | rank=2\n",
      "heights | selected=False | rank=4\n",
      "curb_weight | selected=False | rank=10\n",
      "engine_size | selected=False | rank=5\n",
      "bore | selected=True | rank=1\n",
      "stroke | selected=True | rank=1\n",
      "comprassion | selected=True | rank=1\n",
      "horse_power | selected=False | rank=7\n",
      "peak_rpm | selected=False | rank=11\n",
      "city_mpg | selected=True | rank=1\n",
      "highway_mpg | selected=False | rank=3\n",
      "fuel_type_gas | selected=True | rank=1\n"
     ]
    }
   ],
   "source": [
    "for i, col in zip(range(X.shape[1]), X.columns):\n",
    "    print(f\"{col} | selected={rfe.support_[i]} | rank={rfe.ranking_[i]}\")"
   ]
  },
  {
   "cell_type": "markdown",
   "id": "33a108cc-59ed-4c15-b0be-416b37819c66",
   "metadata": {},
   "source": [
    "<div style=\"background-color: #1e228f; padding: 15px; border: 1px solid #000205; border-radius: 5px;\">  \n",
    "\n",
    "- From the above output we can say RFE for estimator 2 has selected bore ,stroke, engine_size ,city_mpg and fuel_type_gas as important features. \n",
    "- For RFE estimator 1, it has selected curb_weight, engine_size, city_mpg and highway_mpg as important features.\n",
    "- Next the coefficients of the selected features are calculated as follows.\n",
    "</div>"
   ]
  },
  {
   "cell_type": "code",
   "execution_count": 137,
   "id": "4f5b2a1e-c9bc-4a15-bbdd-455129a92845",
   "metadata": {},
   "outputs": [
    {
     "name": "stdout",
     "output_type": "stream",
     "text": [
      "Selected Features for estimator 1:\n",
      "Index(['bore', 'stroke', 'comprassion', 'city_mpg', 'fuel_type_gas'], dtype='object')\n",
      "\n",
      "Coefficients:\n",
      "[  991.62391168  -286.29963797  2127.31448921  -967.18585946\n",
      " -5410.35928977]\n"
     ]
    }
   ],
   "source": [
    "# Split the data into training and testing sets for estimator 2\n",
    "X_train_rfe, X_test_rfe, y_train, y_test = train_test_split(X, y, test_size=0.3, random_state=42)\n",
    "reg_model = LinearRegression()\n",
    "\n",
    "# Get the selected features\n",
    "selected_features_indices = rfe.support_\n",
    "# Get the names of the selected features\n",
    "selected_features = X_train.columns[selected_features_indices]\n",
    "# Display the selected features\n",
    "print(\"Selected Features for estimator 1:\")\n",
    "print(selected_features)\n",
    "# Fit the linear regression model using the selected features\n",
    "reg_model.fit(X_train[selected_features], y_train)\n",
    "\n",
    "# Get the coefficients of the linear regression model\n",
    "coefficients = reg_model.coef_\n",
    "\n",
    "# Display the coefficients\n",
    "print(\"\\nCoefficients:\")\n",
    "print(coefficients)"
   ]
  },
  {
   "cell_type": "markdown",
   "id": "0bd8b337-2032-46cc-9996-973c487d1ccb",
   "metadata": {},
   "source": [
    "<div style=\"background-color: #1e228f; padding: 15px; border: 1px solid #000205; border-radius: 5px;\">  \n",
    "\n",
    "- From above coefficients we can say that **stroke,city mpg and fuel_type gas are negetively** related to target and **bore, comprassion are positively** related to target variable.\n",
    "</div>\n"
   ]
  },
  {
   "cell_type": "markdown",
   "id": "501663f3",
   "metadata": {},
   "source": [
    "# 2.3. Embedded methods\n",
    "\n",
    "Choose one (you may do more, one is required) of the embedded methods to conduct variable selection. Report your findigs."
   ]
  },
  {
   "cell_type": "markdown",
   "id": "f3010dda-ce4b-4797-9e67-3a11e6a8dbc6",
   "metadata": {},
   "source": [
    "<div style=\"background-color: #a43cfa; padding: 10px; border-radius: 5px;\">\n",
    "    <h2 style=\"color:#ffff ;\">For this method, Elastic net is used to select the features.</h2>\n",
    "    <p style=\"font-style: italic;\"></p>\n",
    "</div>"
   ]
  },
  {
   "cell_type": "code",
   "execution_count": 138,
   "id": "86c706ff",
   "metadata": {},
   "outputs": [],
   "source": [
    "from sklearn.linear_model import ElasticNet\n",
    "from sklearn.metrics import mean_squared_error\n",
    "from sklearn.model_selection import GridSearchCV"
   ]
  },
  {
   "cell_type": "code",
   "execution_count": 139,
   "id": "b9aab7d1-4b3d-4471-a664-e24eb9790932",
   "metadata": {},
   "outputs": [
    {
     "name": "stdout",
     "output_type": "stream",
     "text": [
      "5531474.429257315\n"
     ]
    }
   ],
   "source": [
    "regression=LinearRegression()\n",
    "regression.fit(X_train,y_train)\n",
    "first_model=(mean_squared_error(y_true=y,y_pred=regression.predict(X)))\n",
    "print(first_model) # printing mean squared error"
   ]
  },
  {
   "cell_type": "code",
   "execution_count": 140,
   "id": "4808a0b0-ac2e-465b-989f-487969fbac8e",
   "metadata": {},
   "outputs": [
    {
     "data": {
      "text/plain": [
       "{'Unnamed: 0': -15.337702475071573,\n",
       " 'wheel_base': 118.55322194535603,\n",
       " 'length': -34.991286711251945,\n",
       " 'width': 334.8612378372121,\n",
       " 'heights': 261.2636964085698,\n",
       " 'curb_weight': 1.5346938585702006,\n",
       " 'engine_size': 81.78442593565643,\n",
       " 'bore': -1091.1908349918617,\n",
       " 'stroke': -4037.8230097090122,\n",
       " 'comprassion': 692.8213750580696,\n",
       " 'horse_power': 64.45658982317504,\n",
       " 'peak_rpm': 1.111143566457912,\n",
       " 'city_mpg': -370.2396548693428,\n",
       " 'highway_mpg': 282.0858205156288,\n",
       " 'fuel_type_gas': -3756.5861087900585}"
      ]
     },
     "execution_count": 140,
     "metadata": {},
     "output_type": "execute_result"
    }
   ],
   "source": [
    "#printing coeffiecients before using Elastic net.\n",
    "coef_dict_baseline = {}\n",
    "for coef,feat in zip(regression.coef_,X.columns):\n",
    "    coef_dict_baseline[feat] = coef\n",
    "coef_dict_baseline"
   ]
  },
  {
   "cell_type": "markdown",
   "id": "26c50654-34d7-41ea-aacb-85f3308334f7",
   "metadata": {},
   "source": [
    "<div style=\"background-color:#8e11f5; padding: 15px; border: 1px solid #000205; border-radius: 5px;\">  \n",
    "\n",
    "- Using Elastic Net below\n",
    "</div>"
   ]
  },
  {
   "cell_type": "code",
   "execution_count": 141,
   "id": "346ddb5b-b5ac-4d7c-a804-0dd5e80090f4",
   "metadata": {},
   "outputs": [
    {
     "name": "stdout",
     "output_type": "stream",
     "text": [
      "5531474.429257315\n"
     ]
    }
   ],
   "source": [
    "elastic=ElasticNet(alpha=1,l1_ratio=0.5)\n",
    "elastic.fit(X_train,y_train)\n",
    "second_model=(mean_squared_error(y_true=y,y_pred=regression.predict(X)))\n",
    "print(second_model)"
   ]
  },
  {
   "cell_type": "code",
   "execution_count": 142,
   "id": "6ee55350-a1b3-4280-a952-f1bac471f9ef",
   "metadata": {},
   "outputs": [
    {
     "data": {
      "text/plain": [
       "{'Unnamed: 0': -13.594368859519175,\n",
       " 'wheel_base': 33.54774061194207,\n",
       " 'length': -8.423670453743764,\n",
       " 'width': 245.04567803197884,\n",
       " 'heights': 214.6351949588654,\n",
       " 'curb_weight': 3.8580219077955813,\n",
       " 'engine_size': 69.452622406311,\n",
       " 'bore': -8.93270459818549,\n",
       " 'stroke': -324.001287970343,\n",
       " 'comprassion': 567.0815275871863,\n",
       " 'horse_power': 59.88402894550887,\n",
       " 'peak_rpm': 0.5276860563503538,\n",
       " 'city_mpg': -94.51182521968862,\n",
       " 'highway_mpg': 148.35450462467244,\n",
       " 'fuel_type_gas': -186.42724234534137}"
      ]
     },
     "execution_count": 142,
     "metadata": {},
     "output_type": "execute_result"
    }
   ],
   "source": [
    "coef_dict_baseline = {}\n",
    "for coef,feat in zip(elastic.coef_,X.columns):\n",
    "    coef_dict_baseline[feat] = coef\n",
    "coef_dict_baseline\n"
   ]
  },
  {
   "cell_type": "markdown",
   "id": "b399ac43-83dc-4554-acd1-1847b5cba3c2",
   "metadata": {},
   "source": [
    "<div style=\"background-color:#8e11f5; padding: 15px; border: 1px solid #000205; border-radius: 5px;\">  \n",
    "\n",
    "- If we compare the coefficients before and after Elastic net above, we can see value of wheel base,width,heights,engine szie,comprassion,horse power,peak rpm, highway mpg have decreased little comparitively, but are positive. So we can say these features are good enough. But we need best\n",
    "- So  we see the coefficients width, curb weight, engine size, comprassion, Horse power and highway mileage are the best features.\n",
    "- Features such asbore,city mpg and stroke do not contribute to the prediction or have a negative influence on prediction.\n",
    "- length and peak rpm have coefficients close to zero, which means that they dont contribute much to the prediction and hence can be removed.\n",
    "</div>"
   ]
  },
  {
   "cell_type": "markdown",
   "id": "1a783fec",
   "metadata": {},
   "source": [
    "# 2.4. Compare your results\n",
    "Compare your results from the three methods and also compare the coefficients to the full linear regression model (model1) from the previous homework."
   ]
  },
  {
   "cell_type": "markdown",
   "id": "37478577-0aad-4b62-aa43-1bf14598e869",
   "metadata": {},
   "source": [
    "<div style=\"background-color:#8e11f5; padding: 15px; border: 1px solid #000205; border-radius: 5px;\">  \n",
    "\n",
    "- For comparison, the features that were selceted by each variable selection method can be analyzed:\n",
    "- Filter method(SelectK best) : width,curb_weight,engine_size,horse_power and highway_mpg\n",
    "- Wrapper method(Recursive feature elimination RFE):[EST1-curb_weight, engine_size, city_mpg and highway_mpg]  [EST2- bore ,stroke, engine_size ,city_mpg and fuel_type_gas]\n",
    "- Embedded method( Elastic net):  width, curb weight, engine size, comprassion, Horse power and highway mileage\n",
    "</div>"
   ]
  },
  {
   "cell_type": "markdown",
   "id": "2d526aa9-16ef-4921-8145-5cafe9ab86e6",
   "metadata": {},
   "source": [
    "<div style=\"background-color:#8e11f5; padding: 15px; border: 1px solid #000205; border-radius: 5px;\">  \n",
    "\n",
    "- By comparing, the SelectK best, RFE with estimator 1 and Elastic net methods considers **Curb weight,Engine size and highway mileage to be an important aspect** for prediction of cost of the vehicle(car) hence we can conclude these to be most important features among all others.\n",
    "- While in the previous assignment, the outcome of OLS method, it was concluded that **length and highway mileage was found to be less significant**. Even in this case, these featuresdo not have much significance except for highway mileage which was selected by filter and embedded method.\n",
    "- So we can conclude, that the results from previous method of variable selection and Filter/Wrapper/Embedded methods provide similar output regarding significant features.\n",
    "</div>"
   ]
  },
  {
   "attachments": {
    "1b62fe5f-1c0e-45c8-b0e9-b671e6d7c180.png": {
     "image/png": "[encoded data removed]"
    },
    "1bb3492d-e96d-45dd-ae13-3f808164fdbb.png": {
     "image/png": "[encoded data removed]"
    }
   },
   "cell_type": "markdown",
   "id": "ff4469fe-497c-4468-beb0-4e15ad3fe86f",
   "metadata": {},
   "source": [
    "![image.png](attachment:1b62fe5f-1c0e-45c8-b0e9-b671e6d7c180.png)\n",
    "![image.png](attachment:1bb3492d-e96d-45dd-ae13-3f808164fdbb.png)"
   ]
  },
  {
   "cell_type": "markdown",
   "id": "85c7fbb6-f07b-4f75-b27a-3864beb8d80f",
   "metadata": {},
   "source": [
    "<div style=\"background-color:#8e11f5; padding: 15px; border: 1px solid #000205; border-radius: 5px;\">  \n",
    "\n",
    "- When we compare the coefficients of model 1 from previous assignment to the current ones, we can spot that the **value of coefficients have decreased** and this makes it easier for getting insights and analyzing the feature's importance.\n",
    "</div>"
   ]
  },
  {
   "cell_type": "markdown",
   "id": "6be87255",
   "metadata": {},
   "source": [
    "# 2.5 Bonus question (*extra 5 points*)"
   ]
  },
  {
   "cell_type": "markdown",
   "id": "8a03d112",
   "metadata": {},
   "source": [
    "Reduce your features with PCA. Run a regression with the chosen number of PCA's, report your findings."
   ]
  },
  {
   "cell_type": "code",
   "execution_count": 143,
   "id": "2cff055c",
   "metadata": {},
   "outputs": [],
   "source": [
    "from sklearn.decomposition import PCA\n",
    "from sklearn.preprocessing import StandardScaler"
   ]
  },
  {
   "cell_type": "code",
   "execution_count": 144,
   "id": "607a50b4-9eff-4a3e-89e6-67271f6d9d94",
   "metadata": {},
   "outputs": [
    {
     "data": {
      "text/plain": [
       "array([[-1.72319115, -1.71550492, -0.43850391, ..., -0.69003306,\n",
       "        -0.56789569,  0.3380617 ],\n",
       "       [-1.7054263 , -1.71550492, -0.43850391, ..., -0.69003306,\n",
       "        -0.56789569,  0.3380617 ],\n",
       "       [-1.68766144, -0.72789532, -0.24564626, ..., -1.00719617,\n",
       "        -0.71714051,  0.3380617 ],\n",
       "       ...,\n",
       "       [ 1.68766144,  1.71601997,  1.16864321, ..., -1.16577772,\n",
       "        -1.16487499,  0.3380617 ],\n",
       "       [ 1.7054263 ,  1.71601997,  1.16864321, ...,  0.1028747 ,\n",
       "        -0.56789569, -2.95803989],\n",
       "       [ 1.72319115,  1.71601997,  1.16864321, ..., -1.00719617,\n",
       "        -0.86638534,  0.3380617 ]])"
      ]
     },
     "execution_count": 144,
     "metadata": {},
     "output_type": "execute_result"
    }
   ],
   "source": [
    "scaler = StandardScaler() # standardizing the values to carry out PCA\n",
    "X_scaled= scaler.fit_transform(X)\n",
    "X_scaled"
   ]
  },
  {
   "cell_type": "code",
   "execution_count": 145,
   "id": "f4ec2cc4-6027-40b7-90e3-d7aedf18bac6",
   "metadata": {},
   "outputs": [],
   "source": [
    "X2_train,X2_test,y_train,y_test=train_test_split(X_scaled,y,test_size=0.3,random_state=30)"
   ]
  },
  {
   "cell_type": "code",
   "execution_count": 146,
   "id": "313ad85f-8da6-4422-94bf-da50eb9f63ef",
   "metadata": {},
   "outputs": [
    {
     "data": {
      "text/plain": [
       "0.9335045029483908"
      ]
     },
     "execution_count": 146,
     "metadata": {},
     "output_type": "execute_result"
    }
   ],
   "source": [
    "model=RandomForestRegressor()\n",
    "model.fit(X2_train,y_train)\n",
    "model.score(X2_test,y_test) # model accuracy"
   ]
  },
  {
   "cell_type": "code",
   "execution_count": 147,
   "id": "88b30b8c-2877-4aa5-8233-0a8d2606b9fa",
   "metadata": {},
   "outputs": [
    {
     "data": {
      "text/plain": [
       "(195, 2)"
      ]
     },
     "execution_count": 147,
     "metadata": {},
     "output_type": "execute_result"
    }
   ],
   "source": [
    "pca = PCA(0.95)# retain 95% of useful features.\n",
    "X_pca=pca.fit_transform(X)\n",
    "X_pca.shape"
   ]
  },
  {
   "cell_type": "code",
   "execution_count": 148,
   "id": "ab8af907-5a0d-4c25-82f1-b9257e79928b",
   "metadata": {},
   "outputs": [
    {
     "data": {
      "text/plain": [
       "array([[ 4.42860455e+01, -8.65206307e+01],\n",
       "       [ 4.42983526e+01, -8.65368916e+01],\n",
       "       [ 2.76227516e+02,  6.65649862e+01],\n",
       "       [-4.06963357e+02,  2.14935174e+02],\n",
       "       [ 8.65721247e-01,  4.82262816e+02],\n",
       "       [-2.63582638e+02,  3.09067960e+02],\n",
       "       [ 1.77149148e+01,  4.93025905e+02],\n",
       "       [ 1.09430119e+02,  5.52999421e+02],\n",
       "       [ 2.20347574e+02,  6.26485204e+02],\n",
       "       [-5.23162944e+02,  4.97032966e+02],\n",
       "       [-5.23150637e+02,  4.97016705e+02],\n",
       "       [ 5.93096444e+02, -6.23112934e+02],\n",
       "       [ 6.38960199e+02, -5.93134306e+02],\n",
       "       [ 8.81007514e+02, -4.34820515e+02],\n",
       "       [ 4.00367293e+02,  6.26240081e+02],\n",
       "       [ 5.25514443e+02,  7.08080372e+02],\n",
       "       [ 6.29877860e+02,  7.76320516e+02],\n",
       "       [-9.00327732e+02, -5.87831537e+02],\n",
       "       [-7.40530961e+02, -1.24216318e+02],\n",
       "       [-7.11288772e+02, -1.05114691e+02],\n",
       "       [-7.93726492e+02, -3.96820671e+01],\n",
       "       [-7.93653739e+02, -3.96150027e+01],\n",
       "       [-5.81889805e+02,  1.00048368e+02],\n",
       "       [-7.17766121e+02,  9.98042416e+00],\n",
       "       [-6.99413234e+02,  2.19621187e+01],\n",
       "       [-6.99400927e+02,  2.19458578e+01],\n",
       "       [-5.29320128e+02,  1.34341148e+02],\n",
       "       [ 3.27985961e+01, -9.55151346e+01],\n",
       "       [ 2.66479045e+02,  5.92954357e+01],\n",
       "       [-5.46170634e+02, -7.14314936e+02],\n",
       "       [-1.11525182e+03,  3.47214996e+02],\n",
       "       [-8.27043054e+02, -6.20319762e+01],\n",
       "       [-1.01416147e+03,  4.13295793e+02],\n",
       "       [-1.00081056e+03,  4.22005318e+02],\n",
       "       [-9.55516196e+02,  4.51586423e+02],\n",
       "       [-9.43939453e+02,  4.59138568e+02],\n",
       "       [-6.56071564e+02,  4.08955122e+02],\n",
       "       [-6.11875133e+02,  4.37843026e+02],\n",
       "       [-5.99215875e+02,  4.46089375e+02],\n",
       "       [-5.42522338e+02,  4.83152702e+02],\n",
       "       [-4.64391590e+02,  5.34744305e+02],\n",
       "       [-4.43379162e+02,  1.90141453e+02],\n",
       "       [-2.33904597e+01, -3.71804359e+02],\n",
       "       [ 1.98724685e+02,  1.27260858e+01],\n",
       "       [ 1.45469708e+03,  5.38766946e+02],\n",
       "       [ 1.45470939e+03,  5.38750685e+02],\n",
       "       [ 1.22098435e+03,  6.84738782e+02],\n",
       "       [-5.07243098e+02, -4.49992165e+02],\n",
       "       [-4.98952492e+02, -4.44629796e+02],\n",
       "       [-4.94771871e+02, -4.41919248e+02],\n",
       "       [-4.61275817e+02, -4.20040776e+02],\n",
       "       [-4.57095181e+02, -4.17330223e+02],\n",
       "       [ 1.76189033e+01, -3.45040906e+02],\n",
       "       [ 3.84754928e+01, -3.31423505e+02],\n",
       "       [ 1.76435176e+01, -3.45073428e+02],\n",
       "       [ 3.85001070e+01, -3.31456026e+02],\n",
       "       [ 1.47471556e+02, -4.40056892e+02],\n",
       "       [ 5.10296619e+01, -3.23308124e+02],\n",
       "       [ 1.47761888e+02, -1.99670069e+01],\n",
       "       [ 6.09508504e+02, -6.74987869e+02],\n",
       "       [ 1.21126632e+03, -1.00393272e+02],\n",
       "       [ 1.40719268e+03,  2.77499835e+01],\n",
       "       [ 1.19452807e+03, -1.11378210e+02],\n",
       "       [ 1.42413227e+03,  3.87617625e+01],\n",
       "       [ 1.18251056e+03,  3.59557586e+02],\n",
       "       [ 1.13612112e+03,  3.29260025e+02],\n",
       "       [ 1.45420008e+03,  2.39585109e+02],\n",
       "       [ 1.29980606e+03,  1.38577574e+02],\n",
       "       [ 3.49955751e+02,  1.13786333e+02],\n",
       "       [-7.58013475e+02, -1.75043605e+01],\n",
       "       [-7.36265491e+02, -3.25789960e+00],\n",
       "       [-6.86233422e+02,  2.94475362e+01],\n",
       "       [-5.67107825e+02,  1.08504333e+02],\n",
       "       [-3.78150833e+02,  2.32545511e+02],\n",
       "       [-1.39310669e+02, -2.09231623e+02],\n",
       "       [ 2.85398054e+02,  7.05291256e+01],\n",
       "       [ 3.58772682e+02,  1.18504688e+02],\n",
       "       [ 3.62953303e+02,  1.21215235e+02],\n",
       "       [-1.08423297e+02, -1.89125004e+02],\n",
       "       [-7.50644815e+01, -1.67326800e+02],\n",
       "       [-3.50561190e+02,  2.50421901e+02],\n",
       "       [-3.50548883e+02,  2.50405640e+02],\n",
       "       [-6.16969703e+02, -2.83759533e+02],\n",
       "       [-2.91215172e+02, -5.48945000e+02],\n",
       "       [-5.92768871e+02, -2.67976568e+02],\n",
       "       [-5.76083309e+02, -2.57085596e+02],\n",
       "       [-5.04290184e+02, -2.10149468e+02],\n",
       "       [-5.65221080e+02, -2.50028417e+02],\n",
       "       [-5.01013207e+02, -2.08048455e+02],\n",
       "       [-5.48523212e+02, -2.39153707e+02],\n",
       "       [-4.93403340e+02, -2.03124811e+02],\n",
       "       [-5.17701737e+02, -2.19035996e+02],\n",
       "       [-2.51921897e+02, -4.42336015e+01],\n",
       "       [-2.70250169e+02, -5.62478179e+01],\n",
       "       [ 3.95987014e+02,  3.81559199e+02],\n",
       "       [ 5.63618720e+02,  4.91190644e+02],\n",
       "       [ 3.66850125e+02,  3.62422679e+02],\n",
       "       [ 3.75986877e+02,  3.68668263e+02],\n",
       "       [ 4.33588692e+02,  4.07123873e+02],\n",
       "       [ 4.32903266e+02,  4.05825763e+02],\n",
       "       [ 4.38578754e+02,  1.68466082e+02],\n",
       "       [ 1.05374303e+03, -4.44323605e+02],\n",
       "       [ 6.13943786e+02,  2.83105493e+02],\n",
       "       [ 1.24836078e+03, -3.17038117e+02],\n",
       "       [ 4.84409551e+02,  1.98287951e+02],\n",
       "       [ 1.09964371e+03, -4.14393760e+02],\n",
       "       [ 6.59771567e+02,  3.12927782e+02],\n",
       "       [ 1.29426146e+03, -2.87108272e+02],\n",
       "       [ 4.84528660e+02,  1.98330883e+02],\n",
       "       [ 1.09969294e+03, -4.14458804e+02],\n",
       "       [ 2.03505992e+02,  7.32468598e+02],\n",
       "       [-7.57592709e+02, -1.82566175e+01],\n",
       "       [-5.80782162e+02,  9.85848858e+01],\n",
       "       [-7.16658478e+02,  8.51694152e+00],\n",
       "       [-6.98127057e+02,  2.06028393e+01],\n",
       "       [-5.29337310e+02,  1.31022372e+02],\n",
       "       [ 3.38939348e+01, -9.69623550e+01],\n",
       "       [ 2.73410017e+02,  6.16657441e+01],\n",
       "       [-3.46146885e+01,  4.57197458e+02],\n",
       "       [-2.68891612e+02,  7.83104390e+02],\n",
       "       [-2.68879304e+02,  7.83088129e+02],\n",
       "       [-2.32185838e+02,  8.07067779e+02],\n",
       "       [ 3.03009995e-01,  1.80193340e+02],\n",
       "       [ 3.11608365e+01,  2.00355464e+02],\n",
       "       [ 4.11767612e+01,  2.06883405e+02],\n",
       "       [ 8.37062011e+01,  2.34680724e+02],\n",
       "       [-9.96514641e+00,  4.73526651e+02],\n",
       "       [ 2.25600062e+01,  4.94779493e+02],\n",
       "       [-3.17766634e+02, -4.47414678e+02],\n",
       "       [ 1.56286990e+01, -8.26276517e+02],\n",
       "       [ 1.15670208e+02, -7.60856910e+02],\n",
       "       [-1.82414973e+02, -4.77967313e+02],\n",
       "       [ 7.45916893e+01, -7.87540533e+02],\n",
       "       [-2.38756244e+02, -3.67316120e+01],\n",
       "       [ 1.78420506e+01, -3.46943733e+02],\n",
       "       [ 1.23045038e+02, -2.77261316e+02],\n",
       "       [-6.13839333e+01, -3.98872244e+02],\n",
       "       [-1.42796142e+02,  2.59534374e+01],\n",
       "       [ 4.70747573e+01, -3.27933285e+02],\n",
       "       [ 2.39886565e+02, -2.00893900e+02],\n",
       "       [-3.17429205e+02, -5.67189703e+02],\n",
       "       [-2.71532576e+02, -5.37164928e+02],\n",
       "       [-2.92361836e+02, -5.50815230e+02],\n",
       "       [-7.12184957e+01, -4.06187560e+02],\n",
       "       [-6.28069933e+01, -4.00666458e+02],\n",
       "       [ 6.20808730e+02,  4.65138029e+01],\n",
       "       [-2.36579001e+02, -5.14150393e+02],\n",
       "       [-2.13224440e+02, -4.98896487e+02],\n",
       "       [ 8.98043252e+01, -6.59387267e+02],\n",
       "       [ 8.97092202e+01, -6.59543632e+02],\n",
       "       [-2.25817294e+02, -5.07293229e+02],\n",
       "       [-2.02302600e+02, -4.91825257e+02],\n",
       "       [-1.87284364e+02, -4.82025009e+02],\n",
       "       [-1.63070562e+02, -4.66214314e+02],\n",
       "       [-1.33880060e+02, -4.47142918e+02],\n",
       "       [-1.04147322e+03,  1.05045434e+03],\n",
       "       [-1.01228272e+03,  1.06952574e+03],\n",
       "       [ 1.50369750e+02, -2.59654093e+02],\n",
       "       [ 1.47047406e+02, -2.61851801e+02],\n",
       "       [ 1.59564654e+02, -2.53687638e+02],\n",
       "       [ 2.66285787e+02, -1.83897612e+02],\n",
       "       [ 2.95476289e+02, -1.64826217e+02],\n",
       "       [ 5.13076070e+02, -2.25033067e+01],\n",
       "       [ 2.99172506e+02, -8.79907857e+02],\n",
       "       [ 2.61772150e+02, -5.46744839e+02],\n",
       "       [ 3.72585502e+02, -8.31911174e+02],\n",
       "       [ 3.72599318e+02, -8.31927645e+02],\n",
       "       [ 4.09291276e+02, -8.07947785e+02],\n",
       "       [ 2.97551263e+02,  3.15585460e+02],\n",
       "       [ 3.30916440e+02,  3.37392850e+02],\n",
       "       [ 4.26708224e+02,  3.99861198e+02],\n",
       "       [ 4.42928180e+02,  4.10420421e+02],\n",
       "       [-8.68700926e+01, -4.17501227e+02],\n",
       "       [-3.75189588e+02, -6.75358784e+01],\n",
       "       [-8.43444902e+01, -4.15897664e+02],\n",
       "       [-3.72663985e+02, -6.59323154e+01],\n",
       "       [-3.20130928e+02, -3.15907947e+01],\n",
       "       [ 1.26700555e+02, -6.35679741e+02],\n",
       "       [-4.35859943e+02,  1.91705700e+02],\n",
       "       [-4.74757908e+02,  1.65970212e+02],\n",
       "       [-5.02149315e+02,  1.48024246e+02],\n",
       "       [-1.32963819e+02,  3.90233881e+02],\n",
       "       [ 3.43749184e+02, -4.93791887e+02],\n",
       "       [-2.16719078e+02,  3.34556916e+02],\n",
       "       [ 1.31686522e+02,  4.43941155e+02],\n",
       "       [ 2.33407639e+02,  5.10458737e+02],\n",
       "       [ 1.50879016e+02,  4.56442763e+02],\n",
       "       [ 2.40095193e+02,  5.14779922e+02],\n",
       "       [ 4.08420619e+02,  2.68108285e+02],\n",
       "       [ 5.01805110e+02,  3.29172252e+02],\n",
       "       [ 1.65149447e+02,  4.65676006e+02],\n",
       "       [ 3.02536740e+02,  4.37564870e+02],\n",
       "       [ 1.62615183e+02,  5.84172160e+02],\n",
       "       [ 7.15141426e+02,  1.08574585e+02],\n",
       "       [ 2.56949293e+02,  5.25665686e+02]])"
      ]
     },
     "execution_count": 148,
     "metadata": {},
     "output_type": "execute_result"
    }
   ],
   "source": [
    "X_pca"
   ]
  },
  {
   "cell_type": "code",
   "execution_count": 149,
   "id": "52f7c2a2-00eb-48dd-a8f4-c134678bb4da",
   "metadata": {},
   "outputs": [],
   "source": [
    "#training new dataframe X_pca\n",
    "X_train_pca,X_test_pca,y_train,y_test=train_test_split(X_pca,y,test_size=0.3, random_state=30)"
   ]
  },
  {
   "cell_type": "code",
   "execution_count": 150,
   "id": "f792d018-05f0-4993-a169-ccaed14c24ed",
   "metadata": {},
   "outputs": [
    {
     "data": {
      "text/plain": [
       "0.7898840604068227"
      ]
     },
     "execution_count": 150,
     "metadata": {},
     "output_type": "execute_result"
    }
   ],
   "source": [
    "model=RandomForestRegressor()\n",
    "model.fit(X_train_pca,y_train)\n",
    "model.score(X_test_pca,y_test)"
   ]
  },
  {
   "cell_type": "markdown",
   "id": "15f5ceb8-a9c2-4716-8901-f7408e2b68f7",
   "metadata": {},
   "source": [
    "<div style=\"background-color:#8e11f5; padding: 15px; border: 1px solid #000205; border-radius: 5px;\">  \n",
    "\n",
    "- Here, we see that after using PCA, the model accuracy drops a little. This may be  due to reduction in dimentionality which results in loss of information for prediction.\n",
    "</div>"
   ]
  },
  {
   "cell_type": "code",
   "execution_count": 151,
   "id": "55d4b990-1746-43ea-936b-333e6c4707ed",
   "metadata": {},
   "outputs": [],
   "source": [
    "n_components=5\n",
    "pca = PCA(n_components=n_components)\n",
    "X_pca = pca.fit_transform(X_scaled)"
   ]
  },
  {
   "cell_type": "code",
   "execution_count": 152,
   "id": "86955b17-542e-4d05-83ac-1d055ef46b4b",
   "metadata": {},
   "outputs": [
    {
     "name": "stdout",
     "output_type": "stream",
     "text": [
      "     Unnamed: 0  wheel_base    length     width   heights  curb_weight  \\\n",
      "PC1    0.032572    0.303075  0.345815  0.336542  0.124280     0.365271   \n",
      "PC2    0.181461    0.234629  0.134965  0.109184  0.315943     0.060373   \n",
      "PC3    0.547372    0.026341  0.058436 -0.096742  0.297714    -0.067925   \n",
      "PC4    0.225132   -0.323636 -0.166294 -0.057581 -0.608168     0.055460   \n",
      "PC5   -0.236959    0.003518  0.067628  0.113929  0.049182     0.071636   \n",
      "\n",
      "     engine_size      bore    stroke  comprassion  horse_power  peak_rpm  \\\n",
      "PC1     0.335233  0.275149  0.061377    -0.076761     0.313309 -0.088069   \n",
      "PC2    -0.046763  0.010853  0.087463     0.453352    -0.241303 -0.371677   \n",
      "PC3    -0.185617  0.255781 -0.646905    -0.063809    -0.080146 -0.022977   \n",
      "PC4     0.275644  0.335137 -0.185327     0.287371     0.207160 -0.229079   \n",
      "PC5     0.047460 -0.138529 -0.399685     0.548553     0.106095  0.637320   \n",
      "\n",
      "     city_mpg  highway_mpg  fuel_type_gas  \n",
      "PC1 -0.326858    -0.336949      -0.036478  \n",
      "PC2  0.256151     0.212182      -0.505897  \n",
      "PC3 -0.052330    -0.047099       0.243567  \n",
      "PC4  0.022329     0.038923      -0.195017  \n",
      "PC5 -0.025254    -0.033553      -0.132048  \n"
     ]
    }
   ],
   "source": [
    "loadings_df = pd.DataFrame(pca.components_, columns=X.columns, index=[f'PC{i+1}' for i in range(n_components)])\n",
    "print(loadings_df)"
   ]
  },
  {
   "cell_type": "code",
   "execution_count": 153,
   "id": "ac0a4bf0-5210-4faa-9881-88bd70d5a427",
   "metadata": {},
   "outputs": [
    {
     "data": {
      "text/html": [
       "<div>\n",
       "<style scoped>\n",
       "    .dataframe tbody tr th:only-of-type {\n",
       "        vertical-align: middle;\n",
       "    }\n",
       "\n",
       "    .dataframe tbody tr th {\n",
       "        vertical-align: top;\n",
       "    }\n",
       "\n",
       "    .dataframe thead th {\n",
       "        text-align: right;\n",
       "    }\n",
       "</style>\n",
       "<table border=\"1\" class=\"dataframe\">\n",
       "  <thead>\n",
       "    <tr style=\"text-align: right;\">\n",
       "      <th></th>\n",
       "      <th>PC1</th>\n",
       "      <th>PC2</th>\n",
       "      <th>PC3</th>\n",
       "      <th>PC4</th>\n",
       "      <th>PC5</th>\n",
       "    </tr>\n",
       "  </thead>\n",
       "  <tbody>\n",
       "    <tr>\n",
       "      <th>0</th>\n",
       "      <td>-0.726964</td>\n",
       "      <td>-2.190071</td>\n",
       "      <td>0.037883</td>\n",
       "      <td>2.151834</td>\n",
       "      <td>0.796116</td>\n",
       "    </tr>\n",
       "    <tr>\n",
       "      <th>1</th>\n",
       "      <td>-0.726385</td>\n",
       "      <td>-2.186848</td>\n",
       "      <td>0.047607</td>\n",
       "      <td>2.155833</td>\n",
       "      <td>0.791906</td>\n",
       "    </tr>\n",
       "    <tr>\n",
       "      <th>2</th>\n",
       "      <td>0.369235</td>\n",
       "      <td>-1.562028</td>\n",
       "      <td>-2.349108</td>\n",
       "      <td>-0.208734</td>\n",
       "      <td>0.423281</td>\n",
       "    </tr>\n",
       "    <tr>\n",
       "      <th>3</th>\n",
       "      <td>-0.363733</td>\n",
       "      <td>-0.181738</td>\n",
       "      <td>-1.197188</td>\n",
       "      <td>-0.956040</td>\n",
       "      <td>1.382175</td>\n",
       "    </tr>\n",
       "    <tr>\n",
       "      <th>4</th>\n",
       "      <td>1.263288</td>\n",
       "      <td>-1.823985</td>\n",
       "      <td>-1.180370</td>\n",
       "      <td>-1.339261</td>\n",
       "      <td>0.296372</td>\n",
       "    </tr>\n",
       "  </tbody>\n",
       "</table>\n",
       "</div>"
      ],
      "text/plain": [
       "        PC1       PC2       PC3       PC4       PC5\n",
       "0 -0.726964 -2.190071  0.037883  2.151834  0.796116\n",
       "1 -0.726385 -2.186848  0.047607  2.155833  0.791906\n",
       "2  0.369235 -1.562028 -2.349108 -0.208734  0.423281\n",
       "3 -0.363733 -0.181738 -1.197188 -0.956040  1.382175\n",
       "4  1.263288 -1.823985 -1.180370 -1.339261  0.296372"
      ]
     },
     "execution_count": 153,
     "metadata": {},
     "output_type": "execute_result"
    }
   ],
   "source": [
    "columns_pca = [f\"PC{i+1}\" for i in range(n_components)] # PCA components\n",
    "X_pca_df = pd.DataFrame(X_pca, columns=columns_pca)\n",
    "X_pca_df.head()"
   ]
  },
  {
   "cell_type": "code",
   "execution_count": 154,
   "id": "950f8760-a3c1-4372-bf07-c3418555c62c",
   "metadata": {},
   "outputs": [
    {
     "data": {
      "text/plain": [
       "array([0.46243329, 0.18690144, 0.09354567, 0.06599678, 0.04994513])"
      ]
     },
     "execution_count": 154,
     "metadata": {},
     "output_type": "execute_result"
    }
   ],
   "source": [
    "pca.explained_variance_ratio_ # variance ratio"
   ]
  },
  {
   "cell_type": "markdown",
   "id": "690e7b2a-c7ef-4f2c-9d32-f89673cc900f",
   "metadata": {},
   "source": [
    "<div style=\"background-color:#8e11f5; padding: 15px; border: 1px solid #000205; border-radius: 5px;\">  \n",
    "\n",
    "- Explained Variance Ratio tells about how much information can be attributed towards each component. \n",
    "- Here, it seen that The first Principal component contains alsmot 50% of the variance. The first 3 principal components represent alsmost 80% of the variance.\n",
    "</div>"
   ]
  },
  {
   "cell_type": "code",
   "execution_count": null,
   "id": "6337138b-60bf-4860-a965-b98d6ff15308",
   "metadata": {},
   "outputs": [],
   "source": []
  },
  {
   "cell_type": "code",
   "execution_count": null,
   "id": "0094b1cb-f104-4ac6-97f7-e42847cbde10",
   "metadata": {},
   "outputs": [],
   "source": []
  },
  {
   "cell_type": "code",
   "execution_count": null,
   "id": "6e847072-55bc-4f3d-9e75-424d8247b3cf",
   "metadata": {},
   "outputs": [],
   "source": []
  },
  {
   "cell_type": "markdown",
   "id": "a8c1de33-470e-4951-b855-cfbe1adc0eb0",
   "metadata": {},
   "source": [
    "<style>\n",
    "    table {\n",
    "        width: 60%;\n",
    "        border-collapse: collapse;\n",
    "        margin-bottom: 20px;\n",
    "    }\n",
    "    th, td {\n",
    "        border: 1px solid #ddd;\n",
    "        padding: 8px;\n",
    "        text-align: left;\n",
    "    }\n",
    "    th {\n",
    "        background-color:#fafafa;\n",
    "    }\n",
    "</style>\n",
    "\n",
    "| NAME | ID | COURSE |\n",
    "| -------- | -------- | -------- |\n",
    "| **Chriag Hebbal Rudresh**  | **1002160960**  | **DASC-5301-Data Science**  |\n"
   ]
  },
  {
   "cell_type": "code",
   "execution_count": null,
   "id": "4bf30b06-c0a3-4a41-81ca-fa0f77a2c942",
   "metadata": {},
   "outputs": [],
   "source": []
  }
 ],
 "metadata": {
  "kernelspec": {
   "display_name": "Python 3 (ipykernel)",
   "language": "python",
   "name": "python3"
  },
  "language_info": {
   "codemirror_mode": {
    "name": "ipython",
    "version": 3
   },
   "file_extension": ".py",
   "mimetype": "text/x-python",
   "name": "python",
   "nbconvert_exporter": "python",
   "pygments_lexer": "ipython3",
   "version": "3.11.5"
  }
 },
 "nbformat": 4,
 "nbformat_minor": 5
}
