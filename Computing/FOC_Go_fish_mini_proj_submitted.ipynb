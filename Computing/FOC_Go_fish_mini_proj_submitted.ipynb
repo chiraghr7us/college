{
 "cells": [
  {
   "cell_type": "code",
   "execution_count": 1,
   "metadata": {
    "colab": {
     "base_uri": "https://localhost:8080/",
     "height": 1000
    },
    "id": "dHOwkmFTCI_X",
    "outputId": "da96f5d0-902a-4668-d970-162f2a56c60f"
   },
   "outputs": [
    {
     "name": "stdout",
     "output_type": "stream",
     "text": [
      "\u001b[1m\t \t 🐠 Welcome to the\u001b[92m Go\u001b[94m-Fish \u001b[0mgame 🐡\n",
      "\n"
     ]
    },
    {
     "name": "stdin",
     "output_type": "stream",
     "text": [
      "Enter the number of players:  4\n"
     ]
    },
    {
     "name": "stdout",
     "output_type": "stream",
     "text": [
      "→ Player 1's hand: ['J', '6', 'K', '3', '3']\n",
      "→ Player 2's hand: ['3', 'J', '7', 'Q', '9']\n",
      "→ Player 3's hand: ['5', 'A', '10', 'A', '5']\n",
      "→ Player 4's hand: ['10', '9', '6', '8', '5']\n",
      "--------------------------------------------\n"
     ]
    },
    {
     "name": "stdin",
     "output_type": "stream",
     "text": [
      "⌨️ Player 1, enter the card to be asked:  j\n"
     ]
    },
    {
     "name": "stdout",
     "output_type": "stream",
     "text": [
      "Player 1 asks Player 2 for: J\n",
      "Player gets the card(s).\n",
      "\u001b[1mPlayer 1 \u001b[0m\u001b[4mgets another turn!\u001b[0m\n",
      "→ Player 1's hand: ['J', '6', 'K', '3', '3', 'J']\n",
      "→ Player 2's hand: ['3', '7', 'Q', '9']\n",
      "→ Player 3's hand: ['5', 'A', '10', 'A', '5']\n",
      "→ Player 4's hand: ['10', '9', '6', '8', '5']\n",
      "--------------------------------------------\n"
     ]
    },
    {
     "name": "stdin",
     "output_type": "stream",
     "text": [
      "⌨️ Player 1, enter the card to be asked:  3\n"
     ]
    },
    {
     "name": "stdout",
     "output_type": "stream",
     "text": [
      "Player 1 asks Player 2 for: 3\n",
      "Player gets the card(s).\n",
      "\u001b[1mPlayer 1 \u001b[0m\u001b[4mgets another turn!\u001b[0m\n",
      "→ Player 1's hand: ['J', '6', 'K', '3', '3', 'J', '3']\n",
      "→ Player 2's hand: ['7', 'Q', '9']\n",
      "→ Player 3's hand: ['5', 'A', '10', 'A', '5']\n",
      "→ Player 4's hand: ['10', '9', '6', '8', '5']\n",
      "--------------------------------------------\n"
     ]
    },
    {
     "name": "stdin",
     "output_type": "stream",
     "text": [
      "⌨️ Player 1, enter the card to be asked:  7\n"
     ]
    },
    {
     "name": "stdout",
     "output_type": "stream",
     "text": [
      "\u001b[1mInvalid choice. You can only ask for a card you already have.\u001b[0m\n",
      "→ Player 1's hand: ['J', '6', 'K', '3', '3', 'J', '3']\n",
      "→ Player 2's hand: ['7', 'Q', '9']\n",
      "→ Player 3's hand: ['5', 'A', '10', 'A', '5']\n",
      "→ Player 4's hand: ['10', '9', '6', '8', '5']\n",
      "--------------------------------------------\n"
     ]
    },
    {
     "name": "stdin",
     "output_type": "stream",
     "text": [
      "⌨️ Player 1, enter the card to be asked:  6\n"
     ]
    },
    {
     "name": "stdout",
     "output_type": "stream",
     "text": [
      "Player 1 asks Player 2 for: 6\n",
      "\u001b[1m\u001b[92mGo Fish!🎣\u001b[0m\n",
      "Player draws a card from the deck.\n",
      "→ Player 1's hand: ['J', '6', 'K', '3', '3', 'J', '3', '4']\n",
      "→ Player 2's hand: ['7', 'Q', '9']\n",
      "→ Player 3's hand: ['5', 'A', '10', 'A', '5']\n",
      "→ Player 4's hand: ['10', '9', '6', '8', '5']\n",
      "--------------------------------------------\n"
     ]
    },
    {
     "name": "stdin",
     "output_type": "stream",
     "text": [
      "⌨️ Player 2, enter the card to be asked:  9\n"
     ]
    },
    {
     "name": "stdout",
     "output_type": "stream",
     "text": [
      "Player 2 asks Player 3 for: 9\n",
      "\u001b[1m\u001b[92mGo Fish!🎣\u001b[0m\n",
      "Player draws a card from the deck.\n",
      "→ Player 1's hand: ['J', '6', 'K', '3', '3', 'J', '3', '4']\n",
      "→ Player 2's hand: ['7', 'Q', '9', 'Q']\n",
      "→ Player 3's hand: ['5', 'A', '10', 'A', '5']\n",
      "→ Player 4's hand: ['10', '9', '6', '8', '5']\n",
      "--------------------------------------------\n"
     ]
    },
    {
     "name": "stdin",
     "output_type": "stream",
     "text": [
      "⌨️ Player 3, enter the card to be asked:  5\n"
     ]
    },
    {
     "name": "stdout",
     "output_type": "stream",
     "text": [
      "Player 3 asks Player 4 for: 5\n",
      "Player gets the card(s).\n",
      "\u001b[1mPlayer 3 \u001b[0m\u001b[4mgets another turn!\u001b[0m\n",
      "→ Player 1's hand: ['J', '6', 'K', '3', '3', 'J', '3', '4']\n",
      "→ Player 2's hand: ['7', 'Q', '9', 'Q']\n",
      "→ Player 3's hand: ['5', 'A', '10', 'A', '5', '5']\n",
      "→ Player 4's hand: ['10', '9', '6', '8']\n",
      "--------------------------------------------\n"
     ]
    },
    {
     "name": "stdin",
     "output_type": "stream",
     "text": [
      "⌨️ Player 3, enter the card to be asked:  a\n"
     ]
    },
    {
     "name": "stdout",
     "output_type": "stream",
     "text": [
      "Player 3 asks Player 4 for: A\n",
      "\u001b[1m\u001b[92mGo Fish!🎣\u001b[0m\n",
      "Player draws a card from the deck.\n",
      "→ Player 1's hand: ['J', '6', 'K', '3', '3', 'J', '3', '4']\n",
      "→ Player 2's hand: ['7', 'Q', '9', 'Q']\n",
      "→ Player 3's hand: ['5', 'A', '10', 'A', '5', '5', '3']\n",
      "→ Player 4's hand: ['10', '9', '6', '8']\n",
      "--------------------------------------------\n"
     ]
    },
    {
     "name": "stdin",
     "output_type": "stream",
     "text": [
      "⌨️ Player 4, enter the card to be asked:  9\n"
     ]
    },
    {
     "name": "stdout",
     "output_type": "stream",
     "text": [
      "Player 4 asks Player 1 for: 9\n",
      "\u001b[1m\u001b[92mGo Fish!🎣\u001b[0m\n",
      "Player draws a card from the deck.\n",
      "→ Player 1's hand: ['J', '6', 'K', '3', '3', 'J', '3', '4']\n",
      "→ Player 2's hand: ['7', 'Q', '9', 'Q']\n",
      "→ Player 3's hand: ['5', 'A', '10', 'A', '5', '5', '3']\n",
      "→ Player 4's hand: ['10', '9', '6', '8', '8']\n",
      "--------------------------------------------\n"
     ]
    },
    {
     "name": "stdin",
     "output_type": "stream",
     "text": [
      "⌨️ Player 1, enter the card to be asked:  3\n"
     ]
    },
    {
     "name": "stdout",
     "output_type": "stream",
     "text": [
      "Player 1 asks Player 2 for: 3\n",
      "\u001b[1m\u001b[92mGo Fish!🎣\u001b[0m\n",
      "Player draws a card from the deck.\n",
      "→ Player 1's hand: ['J', '6', 'K', '3', '3', 'J', '3', '4', 'Q']\n",
      "→ Player 2's hand: ['7', 'Q', '9', 'Q']\n",
      "→ Player 3's hand: ['5', 'A', '10', 'A', '5', '5', '3']\n",
      "→ Player 4's hand: ['10', '9', '6', '8', '8']\n",
      "--------------------------------------------\n"
     ]
    },
    {
     "name": "stdin",
     "output_type": "stream",
     "text": [
      "⌨️ Player 2, enter the card to be asked:  q\n"
     ]
    },
    {
     "name": "stdout",
     "output_type": "stream",
     "text": [
      "Player 2 asks Player 3 for: Q\n",
      "\u001b[1m\u001b[92mGo Fish!🎣\u001b[0m\n",
      "Player draws a card from the deck.\n",
      "→ Player 1's hand: ['J', '6', 'K', '3', '3', 'J', '3', '4', 'Q']\n",
      "→ Player 2's hand: ['7', 'Q', '9', 'Q', '2']\n",
      "→ Player 3's hand: ['5', 'A', '10', 'A', '5', '5', '3']\n",
      "→ Player 4's hand: ['10', '9', '6', '8', '8']\n",
      "--------------------------------------------\n"
     ]
    },
    {
     "name": "stdin",
     "output_type": "stream",
     "text": [
      "⌨️ Player 3, enter the card to be asked:  5\n"
     ]
    },
    {
     "name": "stdout",
     "output_type": "stream",
     "text": [
      "Player 3 asks Player 4 for: 5\n",
      "\u001b[1m\u001b[92mGo Fish!🎣\u001b[0m\n",
      "Player draws a card from the deck.\n",
      "→ Player 1's hand: ['J', '6', 'K', '3', '3', 'J', '3', '4', 'Q']\n",
      "→ Player 2's hand: ['7', 'Q', '9', 'Q', '2']\n",
      "→ Player 3's hand: ['5', 'A', '10', 'A', '5', '5', '3', 'K']\n",
      "→ Player 4's hand: ['10', '9', '6', '8', '8']\n",
      "--------------------------------------------\n"
     ]
    },
    {
     "name": "stdin",
     "output_type": "stream",
     "text": [
      "⌨️ Player 4, enter the card to be asked:  9\n"
     ]
    },
    {
     "name": "stdout",
     "output_type": "stream",
     "text": [
      "Player 4 asks Player 1 for: 9\n",
      "\u001b[1m\u001b[92mGo Fish!🎣\u001b[0m\n",
      "Player draws a card from the deck.\n",
      "→ Player 1's hand: ['J', '6', 'K', '3', '3', 'J', '3', '4', 'Q']\n",
      "→ Player 2's hand: ['7', 'Q', '9', 'Q', '2']\n",
      "→ Player 3's hand: ['5', 'A', '10', 'A', '5', '5', '3', 'K']\n",
      "→ Player 4's hand: ['10', '9', '6', '8', '8', '8']\n",
      "--------------------------------------------\n"
     ]
    },
    {
     "name": "stdin",
     "output_type": "stream",
     "text": [
      "⌨️ Player 1, enter the card to be asked:  q\n"
     ]
    },
    {
     "name": "stdout",
     "output_type": "stream",
     "text": [
      "Player 1 asks Player 2 for: Q\n",
      "Player gets the card(s).\n",
      "\u001b[1mPlayer 1 \u001b[0m\u001b[4mgets another turn!\u001b[0m\n",
      "→ Player 1's hand: ['J', '6', 'K', '3', '3', 'J', '3', '4', 'Q', 'Q', 'Q']\n",
      "→ Player 2's hand: ['7', '9', '2']\n",
      "→ Player 3's hand: ['5', 'A', '10', 'A', '5', '5', '3', 'K']\n",
      "→ Player 4's hand: ['10', '9', '6', '8', '8', '8']\n",
      "--------------------------------------------\n"
     ]
    },
    {
     "name": "stdin",
     "output_type": "stream",
     "text": [
      "⌨️ Player 1, enter the card to be asked:  3\n"
     ]
    },
    {
     "name": "stdout",
     "output_type": "stream",
     "text": [
      "Player 1 asks Player 2 for: 3\n",
      "\u001b[1m\u001b[92mGo Fish!🎣\u001b[0m\n",
      "Player draws a card from the deck.\n",
      "→ Player 1's hand: ['J', '6', 'K', '3', '3', 'J', '3', '4', 'Q', 'Q', 'Q', '6']\n",
      "→ Player 2's hand: ['7', '9', '2']\n",
      "→ Player 3's hand: ['5', 'A', '10', 'A', '5', '5', '3', 'K']\n",
      "→ Player 4's hand: ['10', '9', '6', '8', '8', '8']\n",
      "--------------------------------------------\n"
     ]
    },
    {
     "name": "stdin",
     "output_type": "stream",
     "text": [
      "⌨️ Player 2, enter the card to be asked:  2\n"
     ]
    },
    {
     "name": "stdout",
     "output_type": "stream",
     "text": [
      "Player 2 asks Player 3 for: 2\n",
      "\u001b[1m\u001b[92mGo Fish!🎣\u001b[0m\n",
      "Player draws a card from the deck.\n",
      "→ Player 1's hand: ['J', '6', 'K', '3', '3', 'J', '3', '4', 'Q', 'Q', 'Q', '6']\n",
      "→ Player 2's hand: ['7', '9', '2', '9']\n",
      "→ Player 3's hand: ['5', 'A', '10', 'A', '5', '5', '3', 'K']\n",
      "→ Player 4's hand: ['10', '9', '6', '8', '8', '8']\n",
      "--------------------------------------------\n"
     ]
    },
    {
     "name": "stdin",
     "output_type": "stream",
     "text": [
      "⌨️ Player 3, enter the card to be asked:  k\n"
     ]
    },
    {
     "name": "stdout",
     "output_type": "stream",
     "text": [
      "Player 3 asks Player 4 for: K\n",
      "\u001b[1m\u001b[92mGo Fish!🎣\u001b[0m\n",
      "Player draws a card from the deck.\n",
      "→ Player 1's hand: ['J', '6', 'K', '3', '3', 'J', '3', '4', 'Q', 'Q', 'Q', '6']\n",
      "→ Player 2's hand: ['7', '9', '2', '9']\n",
      "→ Player 3's hand: ['5', 'A', '10', 'A', '5', '5', '3', 'K', 'Q']\n",
      "→ Player 4's hand: ['10', '9', '6', '8', '8', '8']\n",
      "--------------------------------------------\n"
     ]
    },
    {
     "name": "stdin",
     "output_type": "stream",
     "text": [
      "⌨️ Player 4, enter the card to be asked:  8\n"
     ]
    },
    {
     "name": "stdout",
     "output_type": "stream",
     "text": [
      "Player 4 asks Player 1 for: 8\n",
      "\u001b[1m\u001b[92mGo Fish!🎣\u001b[0m\n",
      "Player draws a card from the deck.\n",
      "→ Player 1's hand: ['J', '6', 'K', '3', '3', 'J', '3', '4', 'Q', 'Q', 'Q', '6']\n",
      "→ Player 2's hand: ['7', '9', '2', '9']\n",
      "→ Player 3's hand: ['5', 'A', '10', 'A', '5', '5', '3', 'K', 'Q']\n",
      "→ Player 4's hand: ['10', '9', '6', '8', '8', '8', '8']\n",
      "--------------------------------------------\n"
     ]
    },
    {
     "name": "stdin",
     "output_type": "stream",
     "text": [
      "⌨️ Player 1, enter the card to be asked:  3\n"
     ]
    },
    {
     "name": "stdout",
     "output_type": "stream",
     "text": [
      "Player 1 asks Player 2 for: 3\n",
      "\u001b[1m\u001b[92mGo Fish!🎣\u001b[0m\n",
      "Player draws a card from the deck.\n",
      "→ Player 1's hand: ['J', '6', 'K', '3', '3', 'J', '3', '4', 'Q', 'Q', 'Q', '6', '2']\n",
      "→ Player 2's hand: ['7', '9', '2', '9']\n",
      "→ Player 3's hand: ['5', 'A', '10', 'A', '5', '5', '3', 'K', 'Q']\n",
      "→ Player 4's hand: ['10', '9', '6', '8', '8', '8', '8']\n",
      "--------------------------------------------\n"
     ]
    },
    {
     "name": "stdin",
     "output_type": "stream",
     "text": [
      "⌨️ Player 2, enter the card to be asked:  2\n"
     ]
    },
    {
     "name": "stdout",
     "output_type": "stream",
     "text": [
      "Player 2 asks Player 3 for: 2\n",
      "\u001b[1m\u001b[92mGo Fish!🎣\u001b[0m\n",
      "Player draws a card from the deck.\n",
      "→ Player 1's hand: ['J', '6', 'K', '3', '3', 'J', '3', '4', 'Q', 'Q', 'Q', '6', '2']\n",
      "→ Player 2's hand: ['7', '9', '2', '9', '7']\n",
      "→ Player 3's hand: ['5', 'A', '10', 'A', '5', '5', '3', 'K', 'Q']\n",
      "→ Player 4's hand: ['10', '9', '6', '8', '8', '8', '8']\n",
      "--------------------------------------------\n"
     ]
    },
    {
     "name": "stdin",
     "output_type": "stream",
     "text": [
      "⌨️ Player 3, enter the card to be asked:  5\n"
     ]
    },
    {
     "name": "stdout",
     "output_type": "stream",
     "text": [
      "Player 3 asks Player 4 for: 5\n",
      "\u001b[1m\u001b[92mGo Fish!🎣\u001b[0m\n",
      "Player draws a card from the deck.\n",
      "Player 4 completed the books for: ['8']\n",
      "→ Player 1's hand: ['J', '6', 'K', '3', '3', 'J', '3', '4', 'Q', 'Q', 'Q', '6', '2']\n",
      "→ Player 2's hand: ['7', '9', '2', '9', '7']\n",
      "→ Player 3's hand: ['5', 'A', '10', 'A', '5', '5', '3', 'K', 'Q', '5']\n",
      "→ Player 4's hand: ['10', '9', '6']\n",
      "--------------------------------------------\n"
     ]
    },
    {
     "name": "stdin",
     "output_type": "stream",
     "text": [
      "⌨️ Player 4, enter the card to be asked:  9\n"
     ]
    },
    {
     "name": "stdout",
     "output_type": "stream",
     "text": [
      "Player 4 asks Player 1 for: 9\n",
      "\u001b[1m\u001b[92mGo Fish!🎣\u001b[0m\n",
      "Player draws a card from the deck.\n",
      "→ Player 1's hand: ['J', '6', 'K', '3', '3', 'J', '3', '4', 'Q', 'Q', 'Q', '6', '2']\n",
      "→ Player 2's hand: ['7', '9', '2', '9', '7']\n",
      "→ Player 3's hand: ['5', 'A', '10', 'A', '5', '5', '3', 'K', 'Q', '5']\n",
      "→ Player 4's hand: ['10', '9', '6', 'J']\n",
      "--------------------------------------------\n"
     ]
    },
    {
     "name": "stdin",
     "output_type": "stream",
     "text": [
      "⌨️ Player 1, enter the card to be asked:  2\n"
     ]
    },
    {
     "name": "stdout",
     "output_type": "stream",
     "text": [
      "Player 1 asks Player 2 for: 2\n",
      "Player gets the card(s).\n",
      "\u001b[1mPlayer 1 \u001b[0m\u001b[4mgets another turn!\u001b[0m\n",
      "→ Player 1's hand: ['J', '6', 'K', '3', '3', 'J', '3', '4', 'Q', 'Q', 'Q', '6', '2', '2']\n",
      "→ Player 2's hand: ['7', '9', '9', '7']\n",
      "→ Player 3's hand: ['5', 'A', '10', 'A', '5', '5', '3', 'K', 'Q', '5']\n",
      "→ Player 4's hand: ['10', '9', '6', 'J']\n",
      "--------------------------------------------\n"
     ]
    },
    {
     "name": "stdin",
     "output_type": "stream",
     "text": [
      "⌨️ Player 1, enter the card to be asked:  j\n"
     ]
    },
    {
     "name": "stdout",
     "output_type": "stream",
     "text": [
      "Player 1 asks Player 2 for: J\n",
      "\u001b[1m\u001b[92mGo Fish!🎣\u001b[0m\n",
      "Player draws a card from the deck.\n",
      "→ Player 1's hand: ['J', '6', 'K', '3', '3', 'J', '3', '4', 'Q', 'Q', 'Q', '6', '2', '2', '10']\n",
      "→ Player 2's hand: ['7', '9', '9', '7']\n",
      "→ Player 3's hand: ['5', 'A', '10', 'A', '5', '5', '3', 'K', 'Q', '5']\n",
      "→ Player 4's hand: ['10', '9', '6', 'J']\n",
      "--------------------------------------------\n"
     ]
    },
    {
     "name": "stdin",
     "output_type": "stream",
     "text": [
      "⌨️ Player 2, enter the card to be asked:  7\n"
     ]
    },
    {
     "name": "stdout",
     "output_type": "stream",
     "text": [
      "Player 2 asks Player 3 for: 7\n",
      "\u001b[1m\u001b[92mGo Fish!🎣\u001b[0m\n",
      "Player draws a card from the deck.\n",
      "Player 3 completed the books for: ['5']\n",
      "→ Player 1's hand: ['J', '6', 'K', '3', '3', 'J', '3', '4', 'Q', 'Q', 'Q', '6', '2', '2', '10']\n",
      "→ Player 2's hand: ['7', '9', '9', '7', 'K']\n",
      "→ Player 3's hand: ['A', '10', 'A', '3', 'K', 'Q']\n",
      "→ Player 4's hand: ['10', '9', '6', 'J']\n",
      "--------------------------------------------\n"
     ]
    },
    {
     "name": "stdin",
     "output_type": "stream",
     "text": [
      "⌨️ Player 3, enter the card to be asked:  10\n"
     ]
    },
    {
     "name": "stdout",
     "output_type": "stream",
     "text": [
      "Player 3 asks Player 4 for: 10\n",
      "Player gets the card(s).\n",
      "\u001b[1mPlayer 3 \u001b[0m\u001b[4mgets another turn!\u001b[0m\n",
      "→ Player 1's hand: ['J', '6', 'K', '3', '3', 'J', '3', '4', 'Q', 'Q', 'Q', '6', '2', '2', '10']\n",
      "→ Player 2's hand: ['7', '9', '9', '7', 'K']\n",
      "→ Player 3's hand: ['A', '10', 'A', '3', 'K', 'Q', '10']\n",
      "→ Player 4's hand: ['9', '6', 'J']\n",
      "--------------------------------------------\n"
     ]
    },
    {
     "name": "stdin",
     "output_type": "stream",
     "text": [
      "⌨️ Player 3, enter the card to be asked:  3\n"
     ]
    },
    {
     "name": "stdout",
     "output_type": "stream",
     "text": [
      "Player 3 asks Player 4 for: 3\n",
      "\u001b[1m\u001b[92mGo Fish!🎣\u001b[0m\n",
      "Player draws a card from the deck.\n",
      "→ Player 1's hand: ['J', '6', 'K', '3', '3', 'J', '3', '4', 'Q', 'Q', 'Q', '6', '2', '2', '10']\n",
      "→ Player 2's hand: ['7', '9', '9', '7', 'K']\n",
      "→ Player 3's hand: ['A', '10', 'A', '3', 'K', 'Q', '10', '9']\n",
      "→ Player 4's hand: ['9', '6', 'J']\n",
      "--------------------------------------------\n"
     ]
    },
    {
     "name": "stdin",
     "output_type": "stream",
     "text": [
      "⌨️ Player 4, enter the card to be asked:  6\n"
     ]
    },
    {
     "name": "stdout",
     "output_type": "stream",
     "text": [
      "Player 4 asks Player 1 for: 6\n",
      "Player gets the card(s).\n",
      "\u001b[1mPlayer 4 \u001b[0m\u001b[4mgets another turn!\u001b[0m\n",
      "→ Player 1's hand: ['J', 'K', '3', '3', 'J', '3', '4', 'Q', 'Q', 'Q', '2', '2', '10']\n",
      "→ Player 2's hand: ['7', '9', '9', '7', 'K']\n",
      "→ Player 3's hand: ['A', '10', 'A', '3', 'K', 'Q', '10', '9']\n",
      "→ Player 4's hand: ['9', '6', 'J', '6', '6']\n",
      "--------------------------------------------\n"
     ]
    },
    {
     "name": "stdin",
     "output_type": "stream",
     "text": [
      "⌨️ Player 4, enter the card to be asked:  9\n"
     ]
    },
    {
     "name": "stdout",
     "output_type": "stream",
     "text": [
      "Player 4 asks Player 1 for: 9\n",
      "\u001b[1m\u001b[92mGo Fish!🎣\u001b[0m\n",
      "Player draws a card from the deck.\n",
      "→ Player 1's hand: ['J', 'K', '3', '3', 'J', '3', '4', 'Q', 'Q', 'Q', '2', '2', '10']\n",
      "→ Player 2's hand: ['7', '9', '9', '7', 'K']\n",
      "→ Player 3's hand: ['A', '10', 'A', '3', 'K', 'Q', '10', '9']\n",
      "→ Player 4's hand: ['9', '6', 'J', '6', '6', '2']\n",
      "--------------------------------------------\n"
     ]
    },
    {
     "name": "stdin",
     "output_type": "stream",
     "text": [
      "⌨️ Player 1, enter the card to be asked:  k\n"
     ]
    },
    {
     "name": "stdout",
     "output_type": "stream",
     "text": [
      "Player 1 asks Player 2 for: K\n",
      "Player gets the card(s).\n",
      "\u001b[1mPlayer 1 \u001b[0m\u001b[4mgets another turn!\u001b[0m\n",
      "→ Player 1's hand: ['J', 'K', '3', '3', 'J', '3', '4', 'Q', 'Q', 'Q', '2', '2', '10', 'K']\n",
      "→ Player 2's hand: ['7', '9', '9', '7']\n",
      "→ Player 3's hand: ['A', '10', 'A', '3', 'K', 'Q', '10', '9']\n",
      "→ Player 4's hand: ['9', '6', 'J', '6', '6', '2']\n",
      "--------------------------------------------\n"
     ]
    },
    {
     "name": "stdin",
     "output_type": "stream",
     "text": [
      "⌨️ Player 1, enter the card to be asked:  2\n"
     ]
    },
    {
     "name": "stdout",
     "output_type": "stream",
     "text": [
      "Player 1 asks Player 2 for: 2\n",
      "\u001b[1m\u001b[92mGo Fish!🎣\u001b[0m\n",
      "Player draws a card from the deck.\n",
      "→ Player 1's hand: ['J', 'K', '3', '3', 'J', '3', '4', 'Q', 'Q', 'Q', '2', '2', '10', 'K', 'J']\n",
      "→ Player 2's hand: ['7', '9', '9', '7']\n",
      "→ Player 3's hand: ['A', '10', 'A', '3', 'K', 'Q', '10', '9']\n",
      "→ Player 4's hand: ['9', '6', 'J', '6', '6', '2']\n",
      "--------------------------------------------\n"
     ]
    },
    {
     "name": "stdin",
     "output_type": "stream",
     "text": [
      "⌨️ Player 2, enter the card to be asked:  7\n"
     ]
    },
    {
     "name": "stdout",
     "output_type": "stream",
     "text": [
      "Player 2 asks Player 3 for: 7\n",
      "\u001b[1m\u001b[92mGo Fish!🎣\u001b[0m\n",
      "Player draws a card from the deck.\n",
      "→ Player 1's hand: ['J', 'K', '3', '3', 'J', '3', '4', 'Q', 'Q', 'Q', '2', '2', '10', 'K', 'J']\n",
      "→ Player 2's hand: ['7', '9', '9', '7', 'A']\n",
      "→ Player 3's hand: ['A', '10', 'A', '3', 'K', 'Q', '10', '9']\n",
      "→ Player 4's hand: ['9', '6', 'J', '6', '6', '2']\n",
      "--------------------------------------------\n"
     ]
    },
    {
     "name": "stdin",
     "output_type": "stream",
     "text": [
      "⌨️ Player 3, enter the card to be asked:  a\n"
     ]
    },
    {
     "name": "stdout",
     "output_type": "stream",
     "text": [
      "Player 3 asks Player 4 for: A\n",
      "\u001b[1m\u001b[92mGo Fish!🎣\u001b[0m\n",
      "Player draws a card from the deck.\n",
      "→ Player 1's hand: ['J', 'K', '3', '3', 'J', '3', '4', 'Q', 'Q', 'Q', '2', '2', '10', 'K', 'J']\n",
      "→ Player 2's hand: ['7', '9', '9', '7', 'A']\n",
      "→ Player 3's hand: ['A', '10', 'A', '3', 'K', 'Q', '10', '9', '2']\n",
      "→ Player 4's hand: ['9', '6', 'J', '6', '6', '2']\n",
      "--------------------------------------------\n"
     ]
    },
    {
     "name": "stdin",
     "output_type": "stream",
     "text": [
      "⌨️ Player 4, enter the card to be asked:  9\n"
     ]
    },
    {
     "name": "stdout",
     "output_type": "stream",
     "text": [
      "Player 4 asks Player 1 for: 9\n",
      "\u001b[1m\u001b[92mGo Fish!🎣\u001b[0m\n",
      "Player draws a card from the deck.\n",
      "→ Player 1's hand: ['J', 'K', '3', '3', 'J', '3', '4', 'Q', 'Q', 'Q', '2', '2', '10', 'K', 'J']\n",
      "→ Player 2's hand: ['7', '9', '9', '7', 'A']\n",
      "→ Player 3's hand: ['A', '10', 'A', '3', 'K', 'Q', '10', '9', '2']\n",
      "→ Player 4's hand: ['9', '6', 'J', '6', '6', '2', '4']\n",
      "--------------------------------------------\n"
     ]
    },
    {
     "name": "stdin",
     "output_type": "stream",
     "text": [
      "⌨️ Player 1, enter the card to be asked:  k\n"
     ]
    },
    {
     "name": "stdout",
     "output_type": "stream",
     "text": [
      "Player 1 asks Player 2 for: K\n",
      "\u001b[1m\u001b[92mGo Fish!🎣\u001b[0m\n",
      "Player draws a card from the deck.\n",
      "→ Player 1's hand: ['J', 'K', '3', '3', 'J', '3', '4', 'Q', 'Q', 'Q', '2', '2', '10', 'K', 'J', '10']\n",
      "→ Player 2's hand: ['7', '9', '9', '7', 'A']\n",
      "→ Player 3's hand: ['A', '10', 'A', '3', 'K', 'Q', '10', '9', '2']\n",
      "→ Player 4's hand: ['9', '6', 'J', '6', '6', '2', '4']\n",
      "--------------------------------------------\n"
     ]
    },
    {
     "name": "stdin",
     "output_type": "stream",
     "text": [
      "⌨️ Player 2, enter the card to be asked:  9\n"
     ]
    },
    {
     "name": "stdout",
     "output_type": "stream",
     "text": [
      "Player 2 asks Player 3 for: 9\n",
      "Player gets the card(s).\n",
      "\u001b[1mPlayer 2 \u001b[0m\u001b[4mgets another turn!\u001b[0m\n",
      "→ Player 1's hand: ['J', 'K', '3', '3', 'J', '3', '4', 'Q', 'Q', 'Q', '2', '2', '10', 'K', 'J', '10']\n",
      "→ Player 2's hand: ['7', '9', '9', '7', 'A', '9']\n",
      "→ Player 3's hand: ['A', '10', 'A', '3', 'K', 'Q', '10', '2']\n",
      "→ Player 4's hand: ['9', '6', 'J', '6', '6', '2', '4']\n",
      "--------------------------------------------\n"
     ]
    },
    {
     "name": "stdin",
     "output_type": "stream",
     "text": [
      "⌨️ Player 2, enter the card to be asked:  7\n"
     ]
    },
    {
     "name": "stdout",
     "output_type": "stream",
     "text": [
      "Player 2 asks Player 3 for: 7\n",
      "\u001b[1m\u001b[92mGo Fish!🎣\u001b[0m\n",
      "Player draws a card from the deck.\n",
      "→ Player 1's hand: ['J', 'K', '3', '3', 'J', '3', '4', 'Q', 'Q', 'Q', '2', '2', '10', 'K', 'J', '10']\n",
      "→ Player 2's hand: ['7', '9', '9', '7', 'A', '9', '4']\n",
      "→ Player 3's hand: ['A', '10', 'A', '3', 'K', 'Q', '10', '2']\n",
      "→ Player 4's hand: ['9', '6', 'J', '6', '6', '2', '4']\n",
      "--------------------------------------------\n"
     ]
    },
    {
     "name": "stdin",
     "output_type": "stream",
     "text": [
      "⌨️ Player 3, enter the card to be asked:  10\n"
     ]
    },
    {
     "name": "stdout",
     "output_type": "stream",
     "text": [
      "Player 3 asks Player 4 for: 10\n",
      "\u001b[1m\u001b[92mGo Fish!🎣\u001b[0m\n",
      "Player draws a card from the deck.\n",
      "→ Player 1's hand: ['J', 'K', '3', '3', 'J', '3', '4', 'Q', 'Q', 'Q', '2', '2', '10', 'K', 'J', '10']\n",
      "→ Player 2's hand: ['7', '9', '9', '7', 'A', '9', '4']\n",
      "→ Player 3's hand: ['A', '10', 'A', '3', 'K', 'Q', '10', '2', '4']\n",
      "→ Player 4's hand: ['9', '6', 'J', '6', '6', '2', '4']\n",
      "--------------------------------------------\n"
     ]
    },
    {
     "name": "stdin",
     "output_type": "stream",
     "text": [
      "⌨️ Player 4, enter the card to be asked:  6\n"
     ]
    },
    {
     "name": "stdout",
     "output_type": "stream",
     "text": [
      "Player 4 asks Player 1 for: 6\n",
      "\u001b[1m\u001b[92mGo Fish!🎣\u001b[0m\n",
      "Player draws a card from the deck.\n",
      "→ Player 1's hand: ['J', 'K', '3', '3', 'J', '3', '4', 'Q', 'Q', 'Q', '2', '2', '10', 'K', 'J', '10']\n",
      "→ Player 2's hand: ['7', '9', '9', '7', 'A', '9', '4']\n",
      "→ Player 3's hand: ['A', '10', 'A', '3', 'K', 'Q', '10', '2', '4']\n",
      "→ Player 4's hand: ['9', '6', 'J', '6', '6', '2', '4', 'K']\n",
      "--------------------------------------------\n"
     ]
    },
    {
     "name": "stdin",
     "output_type": "stream",
     "text": [
      "⌨️ Player 1, enter the card to be asked:  k\n"
     ]
    },
    {
     "name": "stdout",
     "output_type": "stream",
     "text": [
      "Player 1 asks Player 2 for: K\n",
      "\u001b[1m\u001b[92mGo Fish!🎣\u001b[0m\n",
      "Player draws a card from the deck.\n",
      "→ Player 1's hand: ['J', 'K', '3', '3', 'J', '3', '4', 'Q', 'Q', 'Q', '2', '2', '10', 'K', 'J', '10', '7']\n",
      "→ Player 2's hand: ['7', '9', '9', '7', 'A', '9', '4']\n",
      "→ Player 3's hand: ['A', '10', 'A', '3', 'K', 'Q', '10', '2', '4']\n",
      "→ Player 4's hand: ['9', '6', 'J', '6', '6', '2', '4', 'K']\n",
      "--------------------------------------------\n"
     ]
    },
    {
     "name": "stdin",
     "output_type": "stream",
     "text": [
      "⌨️ Player 2, enter the card to be asked:  7\n"
     ]
    },
    {
     "name": "stdout",
     "output_type": "stream",
     "text": [
      "Player 2 asks Player 3 for: 7\n",
      "\u001b[1m\u001b[92mGo Fish!🎣\u001b[0m\n",
      "Player draws a card from the deck.\n",
      "→ Player 1's hand: ['J', 'K', '3', '3', 'J', '3', '4', 'Q', 'Q', 'Q', '2', '2', '10', 'K', 'J', '10', '7']\n",
      "→ Player 2's hand: ['7', '9', '9', '7', 'A', '9', '4', 'A']\n",
      "→ Player 3's hand: ['A', '10', 'A', '3', 'K', 'Q', '10', '2', '4']\n",
      "→ Player 4's hand: ['9', '6', 'J', '6', '6', '2', '4', 'K']\n",
      "--------------------------------------------\n"
     ]
    },
    {
     "name": "stdin",
     "output_type": "stream",
     "text": [
      "⌨️ Player 3, enter the card to be asked:  a\n"
     ]
    },
    {
     "name": "stdout",
     "output_type": "stream",
     "text": [
      "Player 3 asks Player 4 for: A\n",
      "\u001b[1m\u001b[92mGo Fish!🎣\u001b[0m\n",
      "Player draws a card from the deck.\n",
      "→ Player 1's hand: ['J', 'K', '3', '3', 'J', '3', '4', 'Q', 'Q', 'Q', '2', '2', '10', 'K', 'J', '10', '7']\n",
      "→ Player 2's hand: ['7', '9', '9', '7', 'A', '9', '4', 'A']\n",
      "→ Player 3's hand: ['A', '10', 'A', '3', 'K', 'Q', '10', '2', '4', '6']\n",
      "→ Player 4's hand: ['9', '6', 'J', '6', '6', '2', '4', 'K']\n",
      "--------------------------------------------\n"
     ]
    },
    {
     "name": "stdin",
     "output_type": "stream",
     "text": [
      "⌨️ Player 4, enter the card to be asked:  9\n"
     ]
    },
    {
     "name": "stdout",
     "output_type": "stream",
     "text": [
      "Player 4 asks Player 1 for: 9\n",
      "\u001b[1m\u001b[92mGo Fish!🎣\u001b[0m\n",
      "Player draws a card from the deck.\n",
      "→ Player 1's hand: ['J', 'K', '3', '3', 'J', '3', '4', 'Q', 'Q', 'Q', '2', '2', '10', 'K', 'J', '10', '7']\n",
      "→ Player 2's hand: ['7', '9', '9', '7', 'A', '9', '4', 'A']\n",
      "→ Player 3's hand: ['A', '10', 'A', '3', 'K', 'Q', '10', '2', '4', '6']\n",
      "→ Player 4's hand: ['9', '6', 'J', '6', '6', '2', '4', 'K', '7']\n",
      "--------------------------------------------\n"
     ]
    },
    {
     "name": "stdin",
     "output_type": "stream",
     "text": [
      "⌨️ Player 1, enter the card to be asked:  4\n"
     ]
    },
    {
     "name": "stdout",
     "output_type": "stream",
     "text": [
      "Player 1 asks Player 2 for: 4\n",
      "Player gets the card(s).\n",
      "\u001b[1mPlayer 1 \u001b[0m\u001b[4mgets another turn!\u001b[0m\n",
      "→ Player 1's hand: ['J', 'K', '3', '3', 'J', '3', '4', 'Q', 'Q', 'Q', '2', '2', '10', 'K', 'J', '10', '7', '4']\n",
      "→ Player 2's hand: ['7', '9', '9', '7', 'A', '9', 'A']\n",
      "→ Player 3's hand: ['A', '10', 'A', '3', 'K', 'Q', '10', '2', '4', '6']\n",
      "→ Player 4's hand: ['9', '6', 'J', '6', '6', '2', '4', 'K', '7']\n",
      "--------------------------------------------\n"
     ]
    },
    {
     "name": "stdin",
     "output_type": "stream",
     "text": [
      "⌨️ Player 1, enter the card to be asked:  4\n"
     ]
    },
    {
     "name": "stdout",
     "output_type": "stream",
     "text": [
      "Player 1 asks Player 2 for: 4\n",
      "\u001b[1m\u001b[92mGo Fish!🎣\u001b[0m\n",
      "Player draws a card from the deck.\n"
     ]
    },
    {
     "ename": "IndexError",
     "evalue": "pop from empty list",
     "output_type": "error",
     "traceback": [
      "\u001b[1;31m---------------------------------------------------------------------------\u001b[0m",
      "\u001b[1;31mIndexError\u001b[0m                                Traceback (most recent call last)",
      "Cell \u001b[1;32mIn[1], line 118\u001b[0m\n\u001b[0;32m    114\u001b[0m             \u001b[38;5;28mprint\u001b[39m(\u001b[38;5;124mf\u001b[39m\u001b[38;5;124m\"\u001b[39m\u001b[38;5;124mPlayer \u001b[39m\u001b[38;5;132;01m{\u001b[39;00mgame\u001b[38;5;241m.\u001b[39mcurrent_player\u001b[38;5;250m \u001b[39m\u001b[38;5;241m+\u001b[39m\u001b[38;5;250m \u001b[39m\u001b[38;5;241m1\u001b[39m\u001b[38;5;132;01m}\u001b[39;00m\u001b[38;5;124m completed the books for: \u001b[39m\u001b[38;5;132;01m{\u001b[39;00mbooks\u001b[38;5;132;01m}\u001b[39;00m\u001b[38;5;124m\"\u001b[39m)\n\u001b[0;32m    116\u001b[0m     \u001b[38;5;28mprint\u001b[39m(\u001b[38;5;124m\"\u001b[39m\u001b[38;5;124mGame Over! All players are out of cards.\u001b[39m\u001b[38;5;124m\"\u001b[39m)\n\u001b[1;32m--> 118\u001b[0m \u001b[43mmain\u001b[49m\u001b[43m(\u001b[49m\u001b[43m)\u001b[49m\n",
      "Cell \u001b[1;32mIn[1], line 111\u001b[0m, in \u001b[0;36mmain\u001b[1;34m()\u001b[0m\n\u001b[0;32m    109\u001b[0m game\u001b[38;5;241m.\u001b[39mshow_hands()\n\u001b[0;32m    110\u001b[0m asked_card \u001b[38;5;241m=\u001b[39m \u001b[38;5;28minput\u001b[39m(\u001b[38;5;124mf\u001b[39m\u001b[38;5;124m\"\u001b[39m\u001b[38;5;124m⌨️ Player \u001b[39m\u001b[38;5;132;01m{\u001b[39;00mgame\u001b[38;5;241m.\u001b[39mcurrent_player\u001b[38;5;250m \u001b[39m\u001b[38;5;241m+\u001b[39m\u001b[38;5;250m \u001b[39m\u001b[38;5;241m1\u001b[39m\u001b[38;5;132;01m}\u001b[39;00m\u001b[38;5;124m, enter the card to be asked: \u001b[39m\u001b[38;5;124m\"\u001b[39m)\u001b[38;5;241m.\u001b[39mupper()\n\u001b[1;32m--> 111\u001b[0m \u001b[43mgame\u001b[49m\u001b[38;5;241;43m.\u001b[39;49m\u001b[43mplay_turn\u001b[49m\u001b[43m(\u001b[49m\u001b[43masked_card\u001b[49m\u001b[43m)\u001b[49m\n\u001b[0;32m    112\u001b[0m books \u001b[38;5;241m=\u001b[39m game\u001b[38;5;241m.\u001b[39mcheck_for_books(game\u001b[38;5;241m.\u001b[39mcurrent_player)\n\u001b[0;32m    113\u001b[0m \u001b[38;5;28;01mif\u001b[39;00m books:\n",
      "Cell \u001b[1;32mIn[1], line 72\u001b[0m, in \u001b[0;36mgofish.play_turn\u001b[1;34m(self, asked_card)\u001b[0m\n\u001b[0;32m     70\u001b[0m \u001b[38;5;28;01melse\u001b[39;00m:\n\u001b[0;32m     71\u001b[0m     \u001b[38;5;28mprint\u001b[39m(color\u001b[38;5;241m.\u001b[39mBOLD\u001b[38;5;241m+\u001b[39mcolor\u001b[38;5;241m.\u001b[39mGREEN\u001b[38;5;241m+\u001b[39m\u001b[38;5;124m\"\u001b[39m\u001b[38;5;124mGo Fish!🎣\u001b[39m\u001b[38;5;124m\"\u001b[39m\u001b[38;5;241m+\u001b[39mcolor\u001b[38;5;241m.\u001b[39mEND\u001b[38;5;241m+\u001b[39m \u001b[38;5;124m\"\u001b[39m\u001b[38;5;130;01m\\n\u001b[39;00m\u001b[38;5;124mPlayer draws a card from the deck.\u001b[39m\u001b[38;5;124m\"\u001b[39m)\n\u001b[1;32m---> 72\u001b[0m     drawn_card \u001b[38;5;241m=\u001b[39m \u001b[38;5;28mself\u001b[39m\u001b[38;5;241m.\u001b[39mdeck\u001b[38;5;241m.\u001b[39mpop()\n\u001b[0;32m     73\u001b[0m     \u001b[38;5;28mself\u001b[39m\u001b[38;5;241m.\u001b[39mplayers[\u001b[38;5;28mself\u001b[39m\u001b[38;5;241m.\u001b[39mcurrent_player]\u001b[38;5;241m.\u001b[39mappend(drawn_card)\n\u001b[0;32m     75\u001b[0m     \u001b[38;5;66;03m# Check if the drawn card allows the player to continue their turn\u001b[39;00m\n\u001b[0;32m     76\u001b[0m     \u001b[38;5;66;03m# if drawn_card == guess_rank:\u001b[39;00m\n\u001b[0;32m     77\u001b[0m     \u001b[38;5;66;03m#     print(\"Player draws the requested card and gets another turn!\")\u001b[39;00m\n\u001b[0;32m     78\u001b[0m     \u001b[38;5;66;03m# else:\u001b[39;00m\n",
      "\u001b[1;31mIndexError\u001b[0m: pop from empty list"
     ]
    }
   ],
   "source": [
    "''' Name: Chirag Hebbal Rudresh\n",
    "    ID  : 1002160960\n",
    "    Course: DASC-5300 Fundamentals of computing\n",
    "    Title: Go-Fish mini project\n",
    "\n",
    "'''\n",
    "class color: # only for aesthetics\n",
    "   PURPLE = '\\033[95m'\n",
    "   CYAN = '\\033[96m'\n",
    "   DARKCYAN = '\\033[36m'\n",
    "   BLUE = '\\033[94m'\n",
    "   GREEN = '\\033[92m'\n",
    "   YELLOW = '\\033[93m'\n",
    "   RED = '\\033[91m'\n",
    "   BOLD = '\\033[1m'\n",
    "   UNDERLINE = '\\033[4m'\n",
    "   END = '\\033[0m'\n",
    "\n",
    "\n",
    "\n",
    "import random\n",
    "\n",
    "class gofish:\n",
    "    def __init__(self, num_players, cards_per_player):\n",
    "        self.num_players = num_players\n",
    "        self.cards_per_player = cards_per_player\n",
    "        self.players = [[] for _ in range(num_players)]\n",
    "        self.current_player = 0\n",
    "        self.deck = self.make_deck()\n",
    "\n",
    "# creating the deck of cards\n",
    "    def make_deck(self):\n",
    "        ranks = [ 'J', 'Q', 'K', 'A','2', '3', '4', '5', '6', '7', '8', '9', '10']\n",
    "        deck = ranks * 4  # 4 copies of each rank to get 52 cards\n",
    "        random.shuffle(deck) # shuffling the deck\n",
    "        return deck\n",
    "\n",
    "# dealing cards\n",
    "    def dealing(self):\n",
    "        for _ in range(self.cards_per_player):\n",
    "            for i in range(self.num_players):\n",
    "                card = self.deck.pop() #poping card from one end to give to players\n",
    "                self.players[i].append(card)\n",
    "#displaying hands of all players; ideally only users hand should be seen\n",
    "    def show_hands(self):\n",
    "        for i in range(self.num_players):\n",
    "            print(f\"→ Player {i + 1}'s hand: {self.players[i]}\")\n",
    "        print(\"--------------------------------------------\")\n",
    "\n",
    "# asking for a card\n",
    "    def play_turn(self, asked_card):\n",
    "        if asked_card not in self.players[self.current_player]:\n",
    "            print(color.BOLD+\"Invalid choice. You can only ask for a card you already have.\"+color.END)\n",
    "            return\n",
    "\n",
    "        next_player = (self.current_player + 1) % self.num_players\n",
    "        guess_rank = asked_card\n",
    "        print(f\"Player {self.current_player + 1} asks Player {next_player + 1} for: {guess_rank}\")\n",
    "\n",
    "        if guess_rank in self.players[next_player]:\n",
    "            self.players[self.current_player].extend([card for card in self.players[next_player] if card == guess_rank])\n",
    "            self.players[next_player] = [card for card in self.players[next_player] if card != guess_rank]\n",
    "            print(\"Player gets the card(s).\")\n",
    "\n",
    "            # Check if the player gets another turn\n",
    "            if guess_rank in self.players[self.current_player]:\n",
    "                print(color.BOLD+f\"Player {self.current_player + 1} \"+ color.END+ color.UNDERLINE+\"gets another turn!\"+color.END)\n",
    "            else:\n",
    "                self.current_player = next_player\n",
    "        else:\n",
    "            print(color.BOLD+color.GREEN+\"Go Fish!🎣\"+color.END+ \"\\nPlayer draws a card from the deck.\")\n",
    "            drawn_card = self.deck.pop()\n",
    "            self.players[self.current_player].append(drawn_card)\n",
    "\n",
    "            # Check if the drawn card allows the player to continue their turn\n",
    "            # if drawn_card == guess_rank:\n",
    "            #     print(\"Player draws the requested card and gets another turn!\")\n",
    "            # else:\n",
    "            self.current_player = next_player\n",
    "\n",
    "# checking for books/sets of 4\n",
    "    def check_for_books(self, player_num):\n",
    "        books = []\n",
    "        for rank in set(self.players[player_num]):\n",
    "            if self.players[player_num].count(rank) == 4:\n",
    "                books.append(rank)\n",
    "                self.players[player_num] = [card for card in self.players[player_num] if card != rank]\n",
    "        return books\n",
    "\n",
    "def main():\n",
    "    print(color.BOLD+\"\\t \\t 🐠 Welcome to the\"+color.GREEN+\" Go\"+color.BLUE+\"-Fish \"+color.END+ \"game 🐡\\n\")\n",
    "    num_players = int(input(\"Enter the number of players: \")) #input for number of players\n",
    "\n",
    "# conditions to decide number of cards per player\n",
    "    if num_players == 2:\n",
    "        cards_per_player = 7\n",
    "    elif num_players == 3 or num_players == 4:\n",
    "        cards_per_player = 5\n",
    "    elif num_players == 0 or num_players == 1:\n",
    "        print(\"Invalid entry. You Need Friends! 👎\")\n",
    "    else:\n",
    "        print(\"Unsupported number of players.\\nExiting game.\")\n",
    "        return\n",
    "\n",
    "    game = gofish(num_players, cards_per_player)\n",
    "    game.dealing()\n",
    "\n",
    "    while any(game.players):\n",
    "        game.show_hands()\n",
    "        asked_card = input(f\"⌨️ Player {game.current_player + 1}, enter the card to be asked: \").upper()\n",
    "        game.play_turn(asked_card)\n",
    "        books = game.check_for_books(game.current_player)\n",
    "        if books:\n",
    "            print(f\"Player {game.current_player + 1} completed the books for: {books}\")\n",
    "\n",
    "    print(\"Game Over! All players are out of cards.\")\n",
    "\n",
    "main()\n",
    "\n"
   ]
  }
 ],
 "metadata": {
  "colab": {
   "provenance": []
  },
  "kernelspec": {
   "display_name": "Python 3 (ipykernel)",
   "language": "python",
   "name": "python3"
  },
  "language_info": {
   "codemirror_mode": {
    "name": "ipython",
    "version": 3
   },
   "file_extension": ".py",
   "mimetype": "text/x-python",
   "name": "python",
   "nbconvert_exporter": "python",
   "pygments_lexer": "ipython3",
   "version": "3.11.5"
  }
 },
 "nbformat": 4,
 "nbformat_minor": 4
}
