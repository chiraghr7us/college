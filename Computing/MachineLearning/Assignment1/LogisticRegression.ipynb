{
 "cells": [
  {
   "cell_type": "code",
   "execution_count": null,
   "id": "initial_id",
   "metadata": {
    "collapsed": true
   },
   "outputs": [],
   "source": [
    "import numpy as np\n",
    "\n",
    "def sigmoid(x):\n",
    "    1/(1+np.exp(-x))  \n",
    "\n",
    "class LogisticRegression():\n",
    "   \n",
    "    def __init__(self,lr=0.001,epoch=100):\n",
    "        self.lr=lr\n",
    "        self.epoch=epoch\n",
    "        self.weights=None\n",
    "        self.bias=None\n",
    "    \n",
    "    \n",
    "    def fit(self, X, y):\n",
    "        n_samples, n_features = X.shape\n",
    "        self.weights= np.zeros(n_features)\n",
    "        self.bias= 0\n",
    "        \n",
    "        for _ in range(self.epoch):\n",
    "            linear_pred=np.dot(X,self.weights)+self.bias\n",
    "            predictions=sigmoid(linear_pred)\n",
    "            \n",
    "            dw= (1/n_samples)* np.dot(X.T, (predictions-y))\n",
    "            db= (1/n_samples)* np.sum(predictions-y)\n",
    "            \n",
    "            self.weights = self.weights - self.lr*dw\n",
    "            self.bias = self.bias - self.lr*db\n",
    "    \n",
    "    \n",
    "    def predict(self, X):\n",
    "        linear_pred=np.dot(X,self.weights)+self.bias\n",
    "        y_pred=sigmoid(linear_pred)\n",
    "        class_pred=[0 if y<=0.5 else 1 for y in y_pred]\n",
    "        return class_pred\n",
    "        \n",
    "\n",
    "        "
   ]
  }
 ],
 "metadata": {
  "kernelspec": {
   "display_name": "Python 3",
   "language": "python",
   "name": "python3"
  },
  "language_info": {
   "codemirror_mode": {
    "name": "ipython",
    "version": 2
   },
   "file_extension": ".py",
   "mimetype": "text/x-python",
   "name": "python",
   "nbconvert_exporter": "python",
   "pygments_lexer": "ipython2",
   "version": "2.7.6"
  }
 },
 "nbformat": 4,
 "nbformat_minor": 5
}
