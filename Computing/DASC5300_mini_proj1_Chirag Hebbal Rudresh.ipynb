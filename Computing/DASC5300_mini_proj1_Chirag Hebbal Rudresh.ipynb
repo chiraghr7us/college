{
  "nbformat": 4,
  "nbformat_minor": 0,
  "metadata": {
    "colab": {
      "provenance": []
    },
    "kernelspec": {
      "name": "python3",
      "display_name": "Python 3"
    },
    "language_info": {
      "name": "python"
    }
  },
  "cells": [
    {
      "cell_type": "markdown",
      "source": [
        "## TASK A- String /input statement /print out"
      ],
      "metadata": {
        "id": "4qYbf-yNmEjn"
      }
    },
    {
      "cell_type": "code",
      "execution_count": null,
      "metadata": {
        "colab": {
          "base_uri": "https://localhost:8080/"
        },
        "id": "jAhiny75k61p",
        "outputId": "9058d658-9451-4653-cff4-f304a2985241"
      },
      "outputs": [
        {
          "output_type": "stream",
          "name": "stdout",
          "text": [
            "\t\t\tWelcome User!\n",
            "  \n",
            "Enter your message: APPLE\n",
            "Enter a letter: p\n",
            "The count of the letter \"p\" in your message is: 2\n",
            "Percentage of the letter in the given message is : 40.00% \n"
          ]
        }
      ],
      "source": [
        "print('\\t\\t\\tWelcome User!\\n  ')\n",
        "\n",
        "msg=input(\"Enter your message: \").lower() # converting input to lower case to remove discrepancy if input is capital or not\n",
        "let=input(\"Enter a letter: \").lower()  #converting input to lower case.\n",
        "\n",
        "count_let= msg.count(let) #counting number of occurences of the letter\n",
        "print(f'The count of the letter \"{let}\" in your message is:',count_let)\n",
        "\n",
        "per=count_let/len(msg) #calculating pecentage of letter in the whole message string\n",
        "print('Percentage of the letter in the given message is : {:.2f}% '.format(per*100)) #rounding off to 2 decimal places"
      ]
    },
    {
      "cell_type": "markdown",
      "source": [
        "## TASK B- String manipulation"
      ],
      "metadata": {
        "id": "bI6Ez-_Hr_-1"
      }
    },
    {
      "cell_type": "code",
      "source": [
        "import re\n",
        "poem =\"\"\"I made myself a snowball As perfect as could be.\n",
        "I thought I'd keep it as a pet\n",
        "And let it sleep with me.\n",
        "I made it some pajamas\n",
        "And a pillow for its head.\n",
        "Then last night it ran away,\n",
        "But first it wet the bed.\"\"\"\n",
        "\n",
        "it_count=poem.count('it ') # word count of it; here, space is added after 'it' to prevent the program from counting 'it' in its and with.\n",
        "len_poe=len(poem) # Total no. of characters in the poem ;CROSSCHECK ONCE\n",
        "\n",
        "it_first=poem.find('it') # first occurence of 'it' in the poem using find() function\n",
        "I_last=poem.rfind('I') # last occurence of substring using rfind() fucntion\n",
        "\n",
        "print(f'The poem has the word \"it\" {it_count} times.\\nThe poem has a total of {len_poe} characters.')\n",
        "print(f'The first occurence of \"it\" in the poem is at index {it_first}.')\n",
        "print(f'The last occurence of \"I\" in the poem is at index {I_last}.')\n"
      ],
      "metadata": {
        "colab": {
          "base_uri": "https://localhost:8080/"
        },
        "id": "GBIE--ERsEI8",
        "outputId": "4f50136a-17fa-458a-ff80-a91945ab348a"
      },
      "execution_count": 2,
      "outputs": [
        {
          "output_type": "stream",
          "name": "stdout",
          "text": [
            "The poem has the word \"it\" 5 times.\n",
            "The poem has a total of 210 characters.\n",
            "The first occurence of \"it\" in the poem is at index 68.\n",
            "The last occurence of \"I\" in the poem is at index 106.\n"
          ]
        }
      ]
    },
    {
      "cell_type": "code",
      "source": [
        "#alternative for first occurence of 'it'\n",
        "'''\n",
        "it_first=re.search('it', poem)\n",
        "print(it_first)\n",
        "''' # it will give output of <re.Match object; span=(68, 70), match='it'>, where the index of 'it' is between 68 and 70\n"
      ],
      "metadata": {
        "id": "v3CgUmEL2J04",
        "colab": {
          "base_uri": "https://localhost:8080/",
          "height": 35
        },
        "outputId": "a9fdd8f5-a63a-4bb0-fb54-a722be2b4917"
      },
      "execution_count": null,
      "outputs": [
        {
          "output_type": "execute_result",
          "data": {
            "text/plain": [
              "\"\\nit_first=re.search('it', poem)  \\nprint(it_first)\\n\""
            ],
            "application/vnd.google.colaboratory.intrinsic+json": {
              "type": "string"
            }
          },
          "metadata": {},
          "execution_count": 15
        }
      ]
    },
    {
      "cell_type": "markdown",
      "source": [
        "##TASK C- Assignment operators"
      ],
      "metadata": {
        "id": "83swviGa06SR"
      }
    },
    {
      "cell_type": "code",
      "source": [
        "given_inflation_rate= 1.4 #inflation rate is given as 1.4%\n",
        "inflation_rate=round(given_inflation_rate/100,3)#covert rate into decimal form; rounding off inflation rate\n",
        "\n",
        "old_savings=1000 # savings in $\n",
        "\n",
        "savings=round(old_savings/(1+inflation_rate),3) #future value= initial value/(1+ inflation rate); also using round() for 3 decimal points\n",
        "print(f\"So our initial savings of ${old_savings},\\nafter inflation will be worth ${savings:.2f}\")#rounding savings to 2 decimal places"
      ],
      "metadata": {
        "colab": {
          "base_uri": "https://localhost:8080/"
        },
        "id": "WxJyx6aj1AAu",
        "outputId": "92caa343-4572-49e5-9a15-e09498ea3936"
      },
      "execution_count": null,
      "outputs": [
        {
          "output_type": "stream",
          "name": "stdout",
          "text": [
            "So our initial savings of $1000,\n",
            "after inflation will be worth $986.19\n"
          ]
        }
      ]
    }
  ]
}